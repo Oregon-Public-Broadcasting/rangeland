{
 "cells": [
  {
   "cell_type": "code",
   "execution_count": 611,
   "metadata": {
    "collapsed": true
   },
   "outputs": [],
   "source": [
    "# import necessary python modules\n",
    "import csv\n",
    "import pandas as pd\n",
    "import numpy as np\n",
    "from __future__ import division "
   ]
  },
  {
   "cell_type": "markdown",
   "metadata": {
    "collapsed": true
   },
   "source": [
    "# Create new data frames and import raw data\n",
    "\n",
    "Downloaded Excel files were re-saved as CSV. The following lines import those files for each state and create our four primary tables with the raw data from BLM."
   ]
  },
  {
   "cell_type": "code",
   "execution_count": 466,
   "metadata": {
    "collapsed": false
   },
   "outputs": [],
   "source": [
    "# create a list of the states we'll be analyzing, will be used frequently\n",
    "statelist = [\"AZ\", \"CA\", \"CO\", \"ID\", \"MT\", \"NM\", \"NV\", \"OR\", \"UT\", \"WY\"]"
   ]
  },
  {
   "cell_type": "code",
   "execution_count": 467,
   "metadata": {
    "collapsed": false
   },
   "outputs": [],
   "source": [
    "# Create a new empty DataFrame for each table\n",
    "allotments = pd.DataFrame()\n",
    "operators = pd.DataFrame()\n",
    "permits = pd.DataFrame()\n",
    "health = pd.DataFrame()\n",
    "\n",
    "#create a variable storing the path for each set of raw files\n",
    "allotments_path = 'data/rangeland-administration-system/allotment-info/'\n",
    "operators_path = 'data/rangeland-administration-system/operator-info/'\n",
    "permits_path = 'data/rangeland-administration-system/permit-schedule-info/'\n",
    "health_path = 'data/rangeland-health/'\n",
    "\n",
    "# Import those files for allotments ... (probably should be a function)\n",
    "for s in statelist:\n",
    "    csv_file = '{}{}.csv'.format(allotments_path, s)\n",
    "    new_data = pd.read_csv(csv_file, dtype={'Allotment Number': 'object', 'Auth No': 'object'})\n",
    "    allotments = allotments.append(new_data)\n",
    "\n",
    "# ... and for operators\n",
    "for s in statelist:\n",
    "    csv_file = '{}{}.csv'.format(operators_path, s)\n",
    "    new_data = pd.read_csv(csv_file, dtype={'Allotment Number': 'object', 'Auth No': 'object'})\n",
    "    operators = operators.append(new_data)\n",
    "\n",
    "# ... and for permits\n",
    "for s in statelist:\n",
    "    csv_file = '{}{}.csv'.format(permits_path, s)\n",
    "    new_data = pd.read_csv(csv_file, dtype={'Allotment Number': 'object', 'Auth No': 'object'})\n",
    "    permits = permits.append(new_data)\n",
    "\n",
    "# ... and for land health standards\n",
    "for s in statelist:\n",
    "    csv_file = '{}{}.csv'.format(health_path, s)\n",
    "    new_data = pd.read_csv(csv_file, dtype={'Allotment Number': 'object', 'Auth No': 'object'})\n",
    "    health = health.append(new_data)"
   ]
  },
  {
   "cell_type": "markdown",
   "metadata": {
    "collapsed": false
   },
   "source": [
    "# Processing for Django"
   ]
  },
  {
   "cell_type": "markdown",
   "metadata": {
    "collapsed": false
   },
   "source": [
    "###  Field Offices table\n",
    "---\n",
    "\n",
    "The following lines of code creates a table of field offices by dropping duplicates and adding a unique ID as an integer. This ID can be referenced by other tables in Django.\n"
   ]
  },
  {
   "cell_type": "code",
   "execution_count": 468,
   "metadata": {
    "collapsed": false
   },
   "outputs": [],
   "source": [
    "# create a new df with field office info\n",
    "field_offices = allotments[[\"Admin Office\", \"Field Office\"]]"
   ]
  },
  {
   "cell_type": "code",
   "execution_count": 469,
   "metadata": {
    "collapsed": false
   },
   "outputs": [],
   "source": [
    "#  select only uniques from the DB\n",
    "field_offices.drop_duplicates('Admin Office', inplace = True)"
   ]
  },
  {
   "cell_type": "code",
   "execution_count": 470,
   "metadata": {
    "collapsed": false
   },
   "outputs": [],
   "source": [
    "# save and re-read as a CSV for a janky but fast way of generating unique IDs starting at 1\n",
    "field_offices.to_csv('data/processed/field_offices.csv')\n",
    "field_offices = pd.read_csv('data/processed/field_offices.csv')"
   ]
  },
  {
   "cell_type": "code",
   "execution_count": 471,
   "metadata": {
    "collapsed": false
   },
   "outputs": [],
   "source": [
    "# Create a new column for field office state.\n",
    "field_offices[\"State\"] = field_offices[\"Admin Office\"]\n",
    "field_offices[\"State\"] = field_offices[\"State\"].str[2:4]"
   ]
  },
  {
   "cell_type": "code",
   "execution_count": 472,
   "metadata": {
    "collapsed": false
   },
   "outputs": [],
   "source": [
    "field_offices.loc[field_offices['State'] == 'AZ', 'StateCode'] = 1\n",
    "field_offices.loc[field_offices['State'] == 'CA', 'StateCode'] = 2\n",
    "field_offices.loc[field_offices['State'] == 'CO', 'StateCode'] = 3\n",
    "field_offices.loc[field_offices['State'] == 'ID', 'StateCode'] = 4\n",
    "field_offices.loc[field_offices['State'] == 'MT', 'StateCode'] = 5\n",
    "field_offices.loc[field_offices['State'] == 'NM', 'StateCode'] = 6\n",
    "field_offices.loc[field_offices['State'] == 'NV', 'StateCode'] = 7\n",
    "field_offices.loc[field_offices['State'] == 'OR', 'StateCode'] = 8\n",
    "field_offices.loc[field_offices['State'] == 'UT', 'StateCode'] = 9\n",
    "field_offices.loc[field_offices['State'] == 'WY', 'StateCode'] = 10\n",
    "\n",
    "field_offices['StateCode'] = field_offices['StateCode'].astype('int64')"
   ]
  },
  {
   "cell_type": "code",
   "execution_count": 473,
   "metadata": {
    "collapsed": false
   },
   "outputs": [],
   "source": [
    "field_offices['id'] = field_offices.index\n",
    "field_offices['id'] = field_offices['id'] + 1"
   ]
  },
  {
   "cell_type": "code",
   "execution_count": 474,
   "metadata": {
    "collapsed": false
   },
   "outputs": [],
   "source": [
    "field_offices=field_offices.rename(columns = {'Admin Office':'office_code', 'Field Office': 'office_name', 'StateCode': 'state_id'})"
   ]
  },
  {
   "cell_type": "code",
   "execution_count": 475,
   "metadata": {
    "collapsed": false
   },
   "outputs": [],
   "source": [
    "field_offices = field_offices[['id', 'office_code', 'office_name', 'state_id']]\n",
    "field_offices.to_csv(\"data/processed/field_offices.csv\")"
   ]
  },
  {
   "cell_type": "markdown",
   "metadata": {},
   "source": [
    "###Operators table\n",
    "---\n",
    "\n",
    "The following lines of code create a table of operators (ranches) with a unique ID that can be referenced by other tables, such as the permits table. Create a table of operators linked to field offices, and with a unique ID that can be referencecd by other tables"
   ]
  },
  {
   "cell_type": "code",
   "execution_count": 476,
   "metadata": {
    "collapsed": false
   },
   "outputs": [],
   "source": [
    "#rename operators columsn to remove spaces and capital\n",
    "operators=operators.rename(columns = {'Off CD': 'office_code', 'Auth No':'auth_no', 'Operator Display Name': 'operator_display_name', 'Address1': 'address1', 'Address2': 'address2', 'City': 'city', 'Phone Number': 'phone_number', 'Release Text': 'release_text', 'Zipcode1 5': 'zipcode15', 'Zipcode6 9': 'zipcode69'})"
   ]
  },
  {
   "cell_type": "code",
   "execution_count": 477,
   "metadata": {
    "collapsed": false
   },
   "outputs": [],
   "source": [
    "#assign an id based on the index, but skip the 0\n",
    "operators[\"id\"] = operators.index + 1"
   ]
  },
  {
   "cell_type": "code",
   "execution_count": 478,
   "metadata": {
    "collapsed": true
   },
   "outputs": [],
   "source": [
    "#create a new dataframe that joins operators with field offices\n",
    "new_ops = pd.merge(operators, field_offices, on='office_code', how='inner')"
   ]
  },
  {
   "cell_type": "code",
   "execution_count": 479,
   "metadata": {
    "collapsed": false
   },
   "outputs": [],
   "source": [
    "#that worked great now overwrite operators with that same data\n",
    "operators = new_ops"
   ]
  },
  {
   "cell_type": "code",
   "execution_count": 480,
   "metadata": {
    "collapsed": false
   },
   "outputs": [],
   "source": [
    "#rename the two different id fields so we've got what we want.\n",
    "operators['id'] = operators['id_x'].astype(int)\n",
    "operators['field_office_id'] = operators['id_y'].astype(int)"
   ]
  },
  {
   "cell_type": "code",
   "execution_count": 481,
   "metadata": {
    "collapsed": false
   },
   "outputs": [],
   "source": [
    "# shed the data we don't want by reassigning the variable name 'operators' new a new dataframe with only these columns selected\n",
    "operators = operators[['id', 'auth_no', 'operator_display_name', 'address1', 'address2', 'city', 'zipcode15', 'zipcode69', 'ST2', 'phone_number', 'release_text', 'field_office_id']]"
   ]
  },
  {
   "cell_type": "code",
   "execution_count": 482,
   "metadata": {
    "collapsed": false
   },
   "outputs": [
    {
     "name": "stderr",
     "output_type": "stream",
     "text": [
      "/Library/Python/2.7/site-packages/IPython/kernel/__main__.py:3: SettingWithCopyWarning: \n",
      "A value is trying to be set on a copy of a slice from a DataFrame.\n",
      "Try using .loc[row_indexer,col_indexer] = value instead\n",
      "\n",
      "See the the caveats in the documentation: http://pandas.pydata.org/pandas-docs/stable/indexing.html#indexing-view-versus-copy\n",
      "  app.launch_new_instance()\n"
     ]
    }
   ],
   "source": [
    "# concatenate the ranch name and the city to create a unique identifier, just in case\n",
    "# operator names appear to have no duplicates\n",
    "operators['unique'] = operators['operator_display_name'] + operators['city']"
   ]
  },
  {
   "cell_type": "code",
   "execution_count": 679,
   "metadata": {
    "collapsed": false
   },
   "outputs": [
    {
     "data": {
      "text/plain": [
       "0    NOEL,MICHAEL E,SHERRY M;STEWART,TREVOR D,JENNI...\n",
       "1              DUANE E. AND IVONA H. MAGOONBUNKERVILLE\n",
       "2                 LARSON, L. LYNN AND SANDRAST. GEORGE\n",
       "3                     SUNSHINE CATTLE CO. LCST. GEORGE\n",
       "4                       HEATON CATTLE COMPANYST GEORGE\n",
       "Name: unique, dtype: object"
      ]
     },
     "execution_count": 679,
     "metadata": {},
     "output_type": "execute_result"
    }
   ],
   "source": [
    "# check the first 10 rows\n",
    "operators['unique'].head()"
   ]
  },
  {
   "cell_type": "code",
   "execution_count": 484,
   "metadata": {
    "collapsed": true
   },
   "outputs": [],
   "source": [
    "# create a new datafraem and drop any duplicates, checking for duplicates using our new unique field\n",
    "# operators_unique = operators\n",
    "# operators_unique.drop_duplicates('unique', inplace=True)"
   ]
  },
  {
   "cell_type": "code",
   "execution_count": null,
   "metadata": {
    "collapsed": false
   },
   "outputs": [],
   "source": []
  },
  {
   "cell_type": "code",
   "execution_count": 485,
   "metadata": {
    "collapsed": false
   },
   "outputs": [],
   "source": [
    "#create a new dataframe and fill it with operators data\n",
    "unique_ops = pd.DataFrame()\n",
    "unique_ops = unique_ops.append(operators)"
   ]
  },
  {
   "cell_type": "code",
   "execution_count": 486,
   "metadata": {
    "collapsed": false
   },
   "outputs": [],
   "source": [
    "#drop the duplciates out of it \n",
    "unique_ops.drop_duplicates('unique', inplace=True)"
   ]
  },
  {
   "cell_type": "code",
   "execution_count": 487,
   "metadata": {
    "collapsed": false
   },
   "outputs": [],
   "source": [
    "#assign a numeric 'id' field\n",
    "unique_ops['operator_id'] = unique_ops.index + 1"
   ]
  },
  {
   "cell_type": "code",
   "execution_count": 488,
   "metadata": {
    "collapsed": false
   },
   "outputs": [],
   "source": [
    "#and write the necessary fields into a csv\n",
    "unique_ops[['operator_display_name', 'address1', 'address2', 'city', 'zipcode15', 'zipcode69', 'phone_number', 'release_text', 'operator_id']].to_csv('data/processed/operators.csv')"
   ]
  },
  {
   "cell_type": "code",
   "execution_count": 489,
   "metadata": {
    "collapsed": false
   },
   "outputs": [
    {
     "name": "stdout",
     "output_type": "stream",
     "text": [
      "<class 'pandas.core.frame.DataFrame'>\n",
      "Int64Index: 15327 entries, 0 to 17862\n",
      "Data columns (total 14 columns):\n",
      "id                       15327 non-null int64\n",
      "auth_no                  15327 non-null object\n",
      "operator_display_name    15327 non-null object\n",
      "address1                 15327 non-null object\n",
      "address2                 504 non-null object\n",
      "city                     15327 non-null object\n",
      "zipcode15                15323 non-null object\n",
      "zipcode69                1383 non-null object\n",
      "ST2                      15327 non-null object\n",
      "phone_number             3952 non-null object\n",
      "release_text             15327 non-null object\n",
      "field_office_id          15327 non-null int64\n",
      "unique                   15327 non-null object\n",
      "operator_id              15327 non-null int64\n",
      "dtypes: int64(3), object(11)\n",
      "memory usage: 1.8+ MB\n"
     ]
    }
   ],
   "source": [
    "unique_ops.info()"
   ]
  },
  {
   "cell_type": "markdown",
   "metadata": {},
   "source": [
    "### Authorization numbers table\n",
    "---\n",
    "Create a table that links authorization numbers to operators."
   ]
  },
  {
   "cell_type": "code",
   "execution_count": 490,
   "metadata": {
    "collapsed": true
   },
   "outputs": [],
   "source": [
    "authorizations = operators[['operator_display_name', 'address1', 'auth_no']]"
   ]
  },
  {
   "cell_type": "code",
   "execution_count": 491,
   "metadata": {
    "collapsed": false
   },
   "outputs": [
    {
     "name": "stderr",
     "output_type": "stream",
     "text": [
      "/Library/Python/2.7/site-packages/IPython/kernel/__main__.py:1: SettingWithCopyWarning: \n",
      "A value is trying to be set on a copy of a slice from a DataFrame.\n",
      "Try using .loc[row_indexer,col_indexer] = value instead\n",
      "\n",
      "See the the caveats in the documentation: http://pandas.pydata.org/pandas-docs/stable/indexing.html#indexing-view-versus-copy\n",
      "  if __name__ == '__main__':\n",
      "/Library/Python/2.7/site-packages/IPython/kernel/__main__.py:2: SettingWithCopyWarning: \n",
      "A value is trying to be set on a copy of a slice from a DataFrame.\n",
      "Try using .loc[row_indexer,col_indexer] = value instead\n",
      "\n",
      "See the the caveats in the documentation: http://pandas.pydata.org/pandas-docs/stable/indexing.html#indexing-view-versus-copy\n",
      "  from IPython.kernel.zmq import kernelapp as app\n"
     ]
    }
   ],
   "source": [
    "authorizations['unique'] = authorizations['operator_display_name'] + authorizations['address1']\n",
    "authorizations['id'] = authorizations.index + 1"
   ]
  },
  {
   "cell_type": "code",
   "execution_count": 492,
   "metadata": {
    "collapsed": false
   },
   "outputs": [],
   "source": [
    "# authorizations"
   ]
  },
  {
   "cell_type": "code",
   "execution_count": 493,
   "metadata": {
    "collapsed": false,
    "scrolled": true
   },
   "outputs": [
    {
     "data": {
      "text/html": [
       "<div>\n",
       "<table border=\"1\" class=\"dataframe\">\n",
       "  <thead>\n",
       "    <tr style=\"text-align: right;\">\n",
       "      <th></th>\n",
       "      <th>operator_display_name</th>\n",
       "      <th>address1</th>\n",
       "      <th>auth_no</th>\n",
       "      <th>unique</th>\n",
       "      <th>id</th>\n",
       "    </tr>\n",
       "  </thead>\n",
       "  <tbody>\n",
       "    <tr>\n",
       "      <th>0</th>\n",
       "      <td>NOEL,MICHAEL E,SHERRY M;STEWART,TREVOR D,JENNI...</td>\n",
       "      <td>P O BOX 301</td>\n",
       "      <td>0200054</td>\n",
       "      <td>NOEL,MICHAEL E,SHERRY M;STEWART,TREVOR D,JENNI...</td>\n",
       "      <td>1</td>\n",
       "    </tr>\n",
       "    <tr>\n",
       "      <th>1</th>\n",
       "      <td>DUANE E. AND IVONA H. MAGOON</td>\n",
       "      <td>P.O. BOX 7070</td>\n",
       "      <td>0200064</td>\n",
       "      <td>DUANE E. AND IVONA H. MAGOONP.O. BOX 7070</td>\n",
       "      <td>2</td>\n",
       "    </tr>\n",
       "    <tr>\n",
       "      <th>2</th>\n",
       "      <td>LARSON, L. LYNN AND SANDRA</td>\n",
       "      <td>213 E. 670 SOUTH</td>\n",
       "      <td>0200096</td>\n",
       "      <td>LARSON, L. LYNN AND SANDRA213 E. 670 SOUTH</td>\n",
       "      <td>3</td>\n",
       "    </tr>\n",
       "  </tbody>\n",
       "</table>\n",
       "</div>"
      ],
      "text/plain": [
       "                               operator_display_name          address1  \\\n",
       "0  NOEL,MICHAEL E,SHERRY M;STEWART,TREVOR D,JENNI...       P O BOX 301   \n",
       "1                       DUANE E. AND IVONA H. MAGOON     P.O. BOX 7070   \n",
       "2                         LARSON, L. LYNN AND SANDRA  213 E. 670 SOUTH   \n",
       "\n",
       "   auth_no                                             unique  id  \n",
       "0  0200054  NOEL,MICHAEL E,SHERRY M;STEWART,TREVOR D,JENNI...   1  \n",
       "1  0200064          DUANE E. AND IVONA H. MAGOONP.O. BOX 7070   2  \n",
       "2  0200096         LARSON, L. LYNN AND SANDRA213 E. 670 SOUTH   3  "
      ]
     },
     "execution_count": 493,
     "metadata": {},
     "output_type": "execute_result"
    }
   ],
   "source": [
    "#check the first fiew rows of the file\n",
    "authorizations[:3]"
   ]
  },
  {
   "cell_type": "code",
   "execution_count": 494,
   "metadata": {
    "collapsed": true
   },
   "outputs": [],
   "source": [
    "# write two columns into a csv that we can import to Django app\n",
    "authorizations[['auth_no', 'id']].to_csv('data/processed/authorizations.csv')"
   ]
  },
  {
   "cell_type": "code",
   "execution_count": null,
   "metadata": {
    "collapsed": false
   },
   "outputs": [],
   "source": []
  },
  {
   "cell_type": "markdown",
   "metadata": {},
   "source": [
    "### Linking authorization numbers to operators "
   ]
  },
  {
   "cell_type": "code",
   "execution_count": 495,
   "metadata": {
    "collapsed": false
   },
   "outputs": [],
   "source": [
    "# operators_w_auth_id = pd.merge(operators, authorizations, on='auth_no', how='left')\n",
    "# operators_w_auth_id.to_csv('data/processed/operators_w_auth_id.csv')\n",
    "# operators.to_csv('data/processed/operators.csv')"
   ]
  },
  {
   "cell_type": "code",
   "execution_count": 496,
   "metadata": {
    "collapsed": false
   },
   "outputs": [],
   "source": [
    "unique_ops_short = unique_ops[['unique', 'operator_id']]\n",
    "operators_w_id = pd.merge(operators, unique_ops_short, on='unique', how='left')"
   ]
  },
  {
   "cell_type": "code",
   "execution_count": 497,
   "metadata": {
    "collapsed": false
   },
   "outputs": [
    {
     "name": "stdout",
     "output_type": "stream",
     "text": [
      "<class 'pandas.core.frame.DataFrame'>\n",
      "Int64Index: 17863 entries, 0 to 17862\n",
      "Data columns (total 14 columns):\n",
      "id                       17863 non-null int64\n",
      "auth_no                  17863 non-null object\n",
      "operator_display_name    17863 non-null object\n",
      "address1                 17863 non-null object\n",
      "address2                 601 non-null object\n",
      "city                     17863 non-null object\n",
      "zipcode15                17859 non-null object\n",
      "zipcode69                1628 non-null object\n",
      "ST2                      17863 non-null object\n",
      "phone_number             4938 non-null object\n",
      "release_text             17863 non-null object\n",
      "field_office_id          17863 non-null int64\n",
      "unique                   17863 non-null object\n",
      "operator_id              17863 non-null int64\n",
      "dtypes: int64(3), object(11)\n",
      "memory usage: 2.0+ MB\n"
     ]
    }
   ],
   "source": [
    "# check the new dataframe \n",
    "operators_w_id.info()"
   ]
  },
  {
   "cell_type": "code",
   "execution_count": 498,
   "metadata": {
    "collapsed": false
   },
   "outputs": [
    {
     "name": "stdout",
     "output_type": "stream",
     "text": [
      "<class 'pandas.core.frame.DataFrame'>\n",
      "Int64Index: 17863 entries, 0 to 17862\n",
      "Data columns (total 5 columns):\n",
      "operator_display_name    17863 non-null object\n",
      "address1                 17863 non-null object\n",
      "auth_no                  17863 non-null object\n",
      "unique                   17863 non-null object\n",
      "id                       17863 non-null int64\n",
      "dtypes: int64(1), object(4)\n",
      "memory usage: 837.3+ KB\n"
     ]
    }
   ],
   "source": [
    "authorizations.info()"
   ]
  },
  {
   "cell_type": "code",
   "execution_count": 499,
   "metadata": {
    "collapsed": false
   },
   "outputs": [],
   "source": [
    "# now merge that new dataframe with authorizations \n",
    "auths = authorizations[['auth_no', 'id']]\n",
    "auths = auths.rename(columns={'id': 'authorization_id'})\n",
    "operators_w_id_w_auth = pd.merge(operators_w_id, auths, on = 'auth_no')"
   ]
  },
  {
   "cell_type": "code",
   "execution_count": 500,
   "metadata": {
    "collapsed": false
   },
   "outputs": [],
   "source": [
    "operators_w_id_w_auth['id'] = operators_w_id_w_auth.index + 1"
   ]
  },
  {
   "cell_type": "code",
   "execution_count": 501,
   "metadata": {
    "collapsed": false
   },
   "outputs": [],
   "source": [
    "operators_w_id_w_auth[['id', 'operator_id', 'authorization_id']].to_csv('data/processed/operator_auth_no.csv')"
   ]
  },
  {
   "cell_type": "markdown",
   "metadata": {},
   "source": [
    "--------"
   ]
  },
  {
   "cell_type": "markdown",
   "metadata": {},
   "source": [
    "### Allotments table\n",
    "Create a table of operators linked to field offices and operators, along witha unique ID that can be referencecd by other tables such as \"health\" and \"boundary\""
   ]
  },
  {
   "cell_type": "code",
   "execution_count": 502,
   "metadata": {
    "collapsed": true
   },
   "outputs": [],
   "source": [
    "#save a copy of all the states to a new csv just because\n",
    "allotments.to_csv('data/rangeland-administration-system/allotment-info/all_states.csv')"
   ]
  },
  {
   "cell_type": "code",
   "execution_count": 503,
   "metadata": {
    "collapsed": true
   },
   "outputs": [],
   "source": [
    "#create a new column with unique id for allotments based on state and allotment number (allotment numbers are unique within states according to BLM documentation)\n",
    "allotments['allotment_unique'] = allotments['Adm State'] + allotments['Allotment Number']"
   ]
  },
  {
   "cell_type": "code",
   "execution_count": 504,
   "metadata": {
    "collapsed": false
   },
   "outputs": [
    {
     "name": "stdout",
     "output_type": "stream",
     "text": [
      "<class 'pandas.core.frame.DataFrame'>\n",
      "Int64Index: 25307 entries, 0 to 4190\n",
      "Data columns (total 16 columns):\n",
      "Adm State                25307 non-null object\n",
      "Admin Office             25307 non-null object\n",
      "Field Office             25307 non-null object\n",
      "Allotment Number         25307 non-null object\n",
      "Allotment Name           25307 non-null object\n",
      "Available For Grazing    25307 non-null object\n",
      "Grazing Decision         122 non-null object\n",
      "Public Acres             25215 non-null object\n",
      "Amp Text                 6869 non-null object\n",
      "Amp Implement Date       6759 non-null object\n",
      "Management Stat Text     25307 non-null object\n",
      "Auth No                  23743 non-null object\n",
      "Permitted Aums           23629 non-null object\n",
      "Suspended Aums           18466 non-null object\n",
      "Susp Use Temp            11974 non-null object\n",
      "allotment_unique         25307 non-null object\n",
      "dtypes: object(16)\n",
      "memory usage: 3.3+ MB\n"
     ]
    }
   ],
   "source": [
    "#check the first few lines to make sure we're all good\n",
    "allotments[\"allotment_unique\"][:5]\n",
    "allotments.info()"
   ]
  },
  {
   "cell_type": "code",
   "execution_count": 505,
   "metadata": {
    "collapsed": false
   },
   "outputs": [],
   "source": [
    "# create a new dataframe and drop the duplicate allotment numbers out of it\n",
    "allotments_trimmed = allotments[['allotment_unique', 'Admin Office', 'Auth No', 'Allotment Name', 'Allotment Number', 'Available For Grazing', 'Grazing Decision', 'Public Acres', 'Amp Text', 'Amp Implement Date', 'Management Stat Text']]"
   ]
  },
  {
   "cell_type": "code",
   "execution_count": 506,
   "metadata": {
    "collapsed": false
   },
   "outputs": [],
   "source": [
    "# drop the duplicates out of it\n",
    "allotments_trimmed.drop_duplicates('allotment_unique', inplace = True)"
   ]
  },
  {
   "cell_type": "code",
   "execution_count": 507,
   "metadata": {
    "collapsed": false
   },
   "outputs": [],
   "source": [
    "# rename columns to get rid of messy spaces and capitals\n",
    "allotments_trimmed = allotments_trimmed.rename(columns={'Admin Office': 'office_code', 'Auth No': 'auth_no', 'Allotment Number': 'allotment_number', 'Allotment Name': 'allotment_name', 'Available For Grazing': 'available_for_grazing', 'Grazing Decision': 'grazing_decision', 'Public Acres': 'public_acres', 'Amp Text': 'amp_text', 'Amp Implement Date': 'amp_implement_date', 'Management Stat Text': 'management_stat_text'})"
   ]
  },
  {
   "cell_type": "code",
   "execution_count": 508,
   "metadata": {
    "collapsed": false
   },
   "outputs": [
    {
     "name": "stdout",
     "output_type": "stream",
     "text": [
      "<class 'pandas.core.frame.DataFrame'>\n",
      "Int64Index: 21265 entries, 0 to 4189\n",
      "Data columns (total 11 columns):\n",
      "allotment_unique         21265 non-null object\n",
      "office_code              21265 non-null object\n",
      "auth_no                  19701 non-null object\n",
      "allotment_name           21265 non-null object\n",
      "allotment_number         21265 non-null object\n",
      "available_for_grazing    21265 non-null object\n",
      "grazing_decision         122 non-null object\n",
      "public_acres             21205 non-null object\n",
      "amp_text                 4820 non-null object\n",
      "amp_implement_date       4739 non-null object\n",
      "management_stat_text     21265 non-null object\n",
      "dtypes: object(11)\n",
      "memory usage: 1.9+ MB\n"
     ]
    }
   ],
   "source": [
    "# check it out to make sure we're still good ... \n",
    "allotments_trimmed.info()"
   ]
  },
  {
   "cell_type": "code",
   "execution_count": 509,
   "metadata": {
    "collapsed": true
   },
   "outputs": [],
   "source": [
    "# join it with field office\n",
    "allotments_with_field_office = pd.merge(allotments_trimmed, field_offices, on='office_code', how='inner')"
   ]
  },
  {
   "cell_type": "code",
   "execution_count": 510,
   "metadata": {
    "collapsed": false
   },
   "outputs": [
    {
     "data": {
      "text/plain": [
       "count      21205.000000\n",
       "mean        7286.288847\n",
       "std        30588.340811\n",
       "min            0.000000\n",
       "25%          240.000000\n",
       "50%          960.000000\n",
       "75%         4091.000000\n",
       "max      1459993.000000\n",
       "Name: public_acres, dtype: float64"
      ]
     },
     "execution_count": 510,
     "metadata": {},
     "output_type": "execute_result"
    }
   ],
   "source": [
    "#strip the comma out of \"public acres\" and convert it to a float field so we can calc on it. Then describe() just to make sure it worked\n",
    "allotments_with_field_office['public_acres'] = allotments_with_field_office['public_acres'].str.replace(',', '')\n",
    "allotments_with_field_office['public_acres'] = allotments_with_field_office['public_acres'].astype(float)\n",
    "allotments_with_field_office['public_acres'].describe()"
   ]
  },
  {
   "cell_type": "code",
   "execution_count": 511,
   "metadata": {
    "collapsed": false
   },
   "outputs": [],
   "source": [
    "allotments_with_field_office = allotments_with_field_office.rename(columns={'id': 'field_office_id'})"
   ]
  },
  {
   "cell_type": "code",
   "execution_count": 512,
   "metadata": {
    "collapsed": false
   },
   "outputs": [],
   "source": [
    "#reassign the variable name to a data frame selecting only the fields we want for our table\n",
    "allotments_with_field_office = allotments_with_field_office[['allotment_unique', 'allotment_number', 'allotment_name', 'available_for_grazing', 'grazing_decision', 'public_acres', 'amp_text', 'management_stat_text', 'field_office_id', 'amp_implement_date']]"
   ]
  },
  {
   "cell_type": "code",
   "execution_count": 681,
   "metadata": {
    "collapsed": false
   },
   "outputs": [
    {
     "data": {
      "text/plain": [
       "0   1981-11-01 00:00:00.000000000\n",
       "1   1970-01-01 00:00:00.000001928\n",
       "2   1970-01-01 00:00:00.000001928\n",
       "3   1983-08-30 00:00:00.000000000\n",
       "4   1991-06-27 00:00:00.000000000\n",
       "Name: amp_implement_date, dtype: datetime64[ns]"
      ]
     },
     "execution_count": 681,
     "metadata": {},
     "output_type": "execute_result"
    }
   ],
   "source": [
    "#convert 'amp_implement_date' into a Django-friendly format, then check it with the first five rows jsut to make sure\n",
    "allotments_with_field_office['amp_implement_date'] = pd.to_datetime(allotments_with_field_office['amp_implement_date'])\n",
    "\n",
    "# fill the nulls with a common date that none of the actual dates will match and that we can filter out later\n",
    "# this is to help avoid an error on postgres import\n",
    "allotments_with_field_office['amp_implement_date'] = allotments_with_field_office['amp_implement_date'].fillna(1930-01-01)\n",
    "\n",
    "allotments_with_field_office['amp_implement_date'].head()"
   ]
  },
  {
   "cell_type": "code",
   "execution_count": 682,
   "metadata": {
    "collapsed": false
   },
   "outputs": [
    {
     "data": {
      "text/plain": [
       "0    1\n",
       "1    2\n",
       "2    3\n",
       "3    4\n",
       "4    5\n",
       "Name: id, dtype: int64"
      ]
     },
     "execution_count": 682,
     "metadata": {},
     "output_type": "execute_result"
    }
   ],
   "source": [
    "# assign each allotment a unique id\n",
    "allotments_with_field_office['id'] = allotments_with_field_office.index + 1\n",
    "allotments_with_field_office['id'].head()"
   ]
  },
  {
   "cell_type": "code",
   "execution_count": 515,
   "metadata": {
    "collapsed": true
   },
   "outputs": [],
   "source": [
    "allotments_with_field_office.to_csv('data/processed/allotments.csv')"
   ]
  },
  {
   "cell_type": "markdown",
   "metadata": {},
   "source": [
    "----"
   ]
  },
  {
   "cell_type": "markdown",
   "metadata": {},
   "source": [
    "### Permits table\n",
    "Create a table of permits linked to operators and allotments and with a unique ID that can be referencecd by other tables"
   ]
  },
  {
   "cell_type": "code",
   "execution_count": 675,
   "metadata": {
    "collapsed": false
   },
   "outputs": [
    {
     "data": {
      "text/html": [
       "<div>\n",
       "<table border=\"1\" class=\"dataframe\">\n",
       "  <thead>\n",
       "    <tr style=\"text-align: right;\">\n",
       "      <th></th>\n",
       "      <th>office_code</th>\n",
       "      <th>Fo Name</th>\n",
       "      <th>Auth No</th>\n",
       "      <th>pl_effect_dt</th>\n",
       "      <th>pl_exp_dt</th>\n",
       "      <th>permit_status</th>\n",
       "      <th>allotment_number</th>\n",
       "      <th>Allotment Name</th>\n",
       "      <th>livestock_number</th>\n",
       "      <th>livestock_kind</th>\n",
       "      <th>pd_beg_dt</th>\n",
       "      <th>pd_end_dt</th>\n",
       "      <th>type_use</th>\n",
       "      <th>pl_percent</th>\n",
       "      <th>aums</th>\n",
       "    </tr>\n",
       "  </thead>\n",
       "  <tbody>\n",
       "    <tr>\n",
       "      <th>0</th>\n",
       "      <td>LLAZA01000</td>\n",
       "      <td>ARIZONA STRIP FO</td>\n",
       "      <td>0200054</td>\n",
       "      <td>9/1/2007</td>\n",
       "      <td>8/30/2017</td>\n",
       "      <td>Blank</td>\n",
       "      <td>05316</td>\n",
       "      <td>LOST SPRING GAP</td>\n",
       "      <td>12</td>\n",
       "      <td>CATTLE</td>\n",
       "      <td>3/1/2003</td>\n",
       "      <td>4/30/2003</td>\n",
       "      <td>ACTIVE</td>\n",
       "      <td>100</td>\n",
       "      <td>24</td>\n",
       "    </tr>\n",
       "    <tr>\n",
       "      <th>1</th>\n",
       "      <td>LLAZA01000</td>\n",
       "      <td>ARIZONA STRIP FO</td>\n",
       "      <td>0200054</td>\n",
       "      <td>9/1/2007</td>\n",
       "      <td>8/30/2017</td>\n",
       "      <td>Blank</td>\n",
       "      <td>05316</td>\n",
       "      <td>LOST SPRING GAP</td>\n",
       "      <td>12</td>\n",
       "      <td>CATTLE</td>\n",
       "      <td>1/1/2003</td>\n",
       "      <td>2/28/2003</td>\n",
       "      <td>ACTIVE</td>\n",
       "      <td>100</td>\n",
       "      <td>23</td>\n",
       "    </tr>\n",
       "    <tr>\n",
       "      <th>2</th>\n",
       "      <td>LLAZA01000</td>\n",
       "      <td>ARIZONA STRIP FO</td>\n",
       "      <td>0200064</td>\n",
       "      <td>3/1/2015</td>\n",
       "      <td>2/28/2025</td>\n",
       "      <td>FLPMA 402(C)(2)/APPROP ACT</td>\n",
       "      <td>04810</td>\n",
       "      <td>SULLIVAN CANYON</td>\n",
       "      <td>72</td>\n",
       "      <td>CATTLE</td>\n",
       "      <td>3/1/2003</td>\n",
       "      <td>2/28/2004</td>\n",
       "      <td>ACTIVE</td>\n",
       "      <td>100</td>\n",
       "      <td>864</td>\n",
       "    </tr>\n",
       "    <tr>\n",
       "      <th>3</th>\n",
       "      <td>LLAZA01000</td>\n",
       "      <td>ARIZONA STRIP FO</td>\n",
       "      <td>0200096</td>\n",
       "      <td>3/1/2010</td>\n",
       "      <td>2/28/2017</td>\n",
       "      <td>FLPMA 402(C)(2)/APPROP ACT</td>\n",
       "      <td>04842</td>\n",
       "      <td>CEDAR WASH</td>\n",
       "      <td>67</td>\n",
       "      <td>CATTLE</td>\n",
       "      <td>10/16/2004</td>\n",
       "      <td>2/28/2005</td>\n",
       "      <td>ACTIVE</td>\n",
       "      <td>100</td>\n",
       "      <td>300</td>\n",
       "    </tr>\n",
       "    <tr>\n",
       "      <th>4</th>\n",
       "      <td>LLAZA01000</td>\n",
       "      <td>ARIZONA STRIP FO</td>\n",
       "      <td>0200096</td>\n",
       "      <td>3/1/2010</td>\n",
       "      <td>2/28/2017</td>\n",
       "      <td>FLPMA 402(C)(2)/APPROP ACT</td>\n",
       "      <td>04842</td>\n",
       "      <td>CEDAR WASH</td>\n",
       "      <td>67</td>\n",
       "      <td>CATTLE</td>\n",
       "      <td>3/1/2005</td>\n",
       "      <td>3/15/2005</td>\n",
       "      <td>ACTIVE</td>\n",
       "      <td>100</td>\n",
       "      <td>33</td>\n",
       "    </tr>\n",
       "  </tbody>\n",
       "</table>\n",
       "</div>"
      ],
      "text/plain": [
       "  office_code           Fo Name  Auth No pl_effect_dt  pl_exp_dt  \\\n",
       "0  LLAZA01000  ARIZONA STRIP FO  0200054     9/1/2007  8/30/2017   \n",
       "1  LLAZA01000  ARIZONA STRIP FO  0200054     9/1/2007  8/30/2017   \n",
       "2  LLAZA01000  ARIZONA STRIP FO  0200064     3/1/2015  2/28/2025   \n",
       "3  LLAZA01000  ARIZONA STRIP FO  0200096     3/1/2010  2/28/2017   \n",
       "4  LLAZA01000  ARIZONA STRIP FO  0200096     3/1/2010  2/28/2017   \n",
       "\n",
       "                permit_status allotment_number   Allotment Name  \\\n",
       "0                       Blank            05316  LOST SPRING GAP   \n",
       "1                       Blank            05316  LOST SPRING GAP   \n",
       "2  FLPMA 402(C)(2)/APPROP ACT            04810  SULLIVAN CANYON   \n",
       "3  FLPMA 402(C)(2)/APPROP ACT            04842       CEDAR WASH   \n",
       "4  FLPMA 402(C)(2)/APPROP ACT            04842       CEDAR WASH   \n",
       "\n",
       "   livestock_number livestock_kind   pd_beg_dt  pd_end_dt type_use  \\\n",
       "0                12         CATTLE    3/1/2003  4/30/2003   ACTIVE   \n",
       "1                12         CATTLE    1/1/2003  2/28/2003   ACTIVE   \n",
       "2                72         CATTLE    3/1/2003  2/28/2004   ACTIVE   \n",
       "3                67         CATTLE  10/16/2004  2/28/2005   ACTIVE   \n",
       "4                67         CATTLE    3/1/2005  3/15/2005   ACTIVE   \n",
       "\n",
       "   pl_percent  aums  \n",
       "0         100    24  \n",
       "1         100    23  \n",
       "2         100   864  \n",
       "3         100   300  \n",
       "4         100    33  "
      ]
     },
     "execution_count": 675,
     "metadata": {},
     "output_type": "execute_result"
    }
   ],
   "source": [
    "permits.head()"
   ]
  },
  {
   "cell_type": "code",
   "execution_count": 517,
   "metadata": {
    "collapsed": true
   },
   "outputs": [],
   "source": [
    "permits = permits.rename(columns={'Off CD': 'office_code', 'P/L Eff Dt': 'pl_effect_dt', 'P/L exp Dt': 'pl_exp_dt', 'Permit Status': 'permit_status', 'Allotment Number': 'allotment_number', 'Lvsk #': 'livestock_number', 'Lvsk Kind': 'livestock_kind', 'Pd Beg Dt': 'pd_beg_dt', 'Pd End Dt': 'pd_end_dt', 'Type Use': 'type_use', 'PL %': 'pl_percent', 'Aums': 'aums'} )"
   ]
  },
  {
   "cell_type": "code",
   "execution_count": 518,
   "metadata": {
    "collapsed": false
   },
   "outputs": [],
   "source": [
    "permits_fo = pd.merge(permits, field_offices, on='office_code', how='inner')"
   ]
  },
  {
   "cell_type": "code",
   "execution_count": 519,
   "metadata": {
    "collapsed": false
   },
   "outputs": [],
   "source": [
    "permits_fo = permits_fo.rename(columns={'id': 'field_office_id'})"
   ]
  },
  {
   "cell_type": "code",
   "execution_count": 520,
   "metadata": {
    "collapsed": false
   },
   "outputs": [],
   "source": [
    "#convert date fields to datetime\n",
    "permits_fo['pl_effect_dt'] = pd.to_datetime(permits_fo['pl_effect_dt'])\n",
    "permits_fo['pl_exp_dt'] = pd.to_datetime(permits_fo['pl_exp_dt'])\n",
    "\n",
    "permits_fo['pd_beg_dt'] = pd.to_datetime(permits_fo['pd_beg_dt'])\n",
    "permits_fo['pd_end_dt'] = pd.to_datetime(permits_fo['pd_end_dt'])"
   ]
  },
  {
   "cell_type": "code",
   "execution_count": 676,
   "metadata": {
    "collapsed": false
   },
   "outputs": [
    {
     "data": {
      "text/html": [
       "<div>\n",
       "<table border=\"1\" class=\"dataframe\">\n",
       "  <thead>\n",
       "    <tr style=\"text-align: right;\">\n",
       "      <th></th>\n",
       "      <th>auth_no</th>\n",
       "      <th>pl_effect_dt</th>\n",
       "      <th>pl_exp_dt</th>\n",
       "      <th>permit_status</th>\n",
       "      <th>allotment_number</th>\n",
       "      <th>livestock_number</th>\n",
       "      <th>livestock_kind</th>\n",
       "      <th>pd_beg_dt</th>\n",
       "      <th>pd_end_dt</th>\n",
       "      <th>type_use</th>\n",
       "      <th>pl_percent</th>\n",
       "      <th>aums</th>\n",
       "      <th>field_office_id</th>\n",
       "      <th>allotment_unique</th>\n",
       "    </tr>\n",
       "  </thead>\n",
       "  <tbody>\n",
       "    <tr>\n",
       "      <th>0</th>\n",
       "      <td>0200054</td>\n",
       "      <td>2007-09-01</td>\n",
       "      <td>2017-08-30</td>\n",
       "      <td>NaN</td>\n",
       "      <td>05316</td>\n",
       "      <td>12</td>\n",
       "      <td>CATTLE</td>\n",
       "      <td>2003-03-01</td>\n",
       "      <td>2003-04-30</td>\n",
       "      <td>ACTIVE</td>\n",
       "      <td>100</td>\n",
       "      <td>24</td>\n",
       "      <td>1</td>\n",
       "      <td>AZ05316</td>\n",
       "    </tr>\n",
       "    <tr>\n",
       "      <th>1</th>\n",
       "      <td>0200054</td>\n",
       "      <td>2007-09-01</td>\n",
       "      <td>2017-08-30</td>\n",
       "      <td>NaN</td>\n",
       "      <td>05316</td>\n",
       "      <td>12</td>\n",
       "      <td>CATTLE</td>\n",
       "      <td>2003-01-01</td>\n",
       "      <td>2003-02-28</td>\n",
       "      <td>ACTIVE</td>\n",
       "      <td>100</td>\n",
       "      <td>23</td>\n",
       "      <td>1</td>\n",
       "      <td>AZ05316</td>\n",
       "    </tr>\n",
       "    <tr>\n",
       "      <th>2</th>\n",
       "      <td>0200064</td>\n",
       "      <td>2015-03-01</td>\n",
       "      <td>2025-02-28</td>\n",
       "      <td>FLPMA 402(C)(2)/APPROP ACT</td>\n",
       "      <td>04810</td>\n",
       "      <td>72</td>\n",
       "      <td>CATTLE</td>\n",
       "      <td>2003-03-01</td>\n",
       "      <td>2004-02-28</td>\n",
       "      <td>ACTIVE</td>\n",
       "      <td>100</td>\n",
       "      <td>864</td>\n",
       "      <td>1</td>\n",
       "      <td>AZ04810</td>\n",
       "    </tr>\n",
       "    <tr>\n",
       "      <th>3</th>\n",
       "      <td>0200096</td>\n",
       "      <td>2010-03-01</td>\n",
       "      <td>2017-02-28</td>\n",
       "      <td>FLPMA 402(C)(2)/APPROP ACT</td>\n",
       "      <td>04842</td>\n",
       "      <td>67</td>\n",
       "      <td>CATTLE</td>\n",
       "      <td>2004-10-16</td>\n",
       "      <td>2005-02-28</td>\n",
       "      <td>ACTIVE</td>\n",
       "      <td>100</td>\n",
       "      <td>300</td>\n",
       "      <td>1</td>\n",
       "      <td>AZ04842</td>\n",
       "    </tr>\n",
       "    <tr>\n",
       "      <th>4</th>\n",
       "      <td>0200096</td>\n",
       "      <td>2010-03-01</td>\n",
       "      <td>2017-02-28</td>\n",
       "      <td>FLPMA 402(C)(2)/APPROP ACT</td>\n",
       "      <td>04842</td>\n",
       "      <td>67</td>\n",
       "      <td>CATTLE</td>\n",
       "      <td>2005-03-01</td>\n",
       "      <td>2005-03-15</td>\n",
       "      <td>ACTIVE</td>\n",
       "      <td>100</td>\n",
       "      <td>33</td>\n",
       "      <td>1</td>\n",
       "      <td>AZ04842</td>\n",
       "    </tr>\n",
       "  </tbody>\n",
       "</table>\n",
       "</div>"
      ],
      "text/plain": [
       "   auth_no pl_effect_dt  pl_exp_dt               permit_status  \\\n",
       "0  0200054   2007-09-01 2017-08-30                         NaN   \n",
       "1  0200054   2007-09-01 2017-08-30                         NaN   \n",
       "2  0200064   2015-03-01 2025-02-28  FLPMA 402(C)(2)/APPROP ACT   \n",
       "3  0200096   2010-03-01 2017-02-28  FLPMA 402(C)(2)/APPROP ACT   \n",
       "4  0200096   2010-03-01 2017-02-28  FLPMA 402(C)(2)/APPROP ACT   \n",
       "\n",
       "  allotment_number  livestock_number livestock_kind  pd_beg_dt  pd_end_dt  \\\n",
       "0            05316                12         CATTLE 2003-03-01 2003-04-30   \n",
       "1            05316                12         CATTLE 2003-01-01 2003-02-28   \n",
       "2            04810                72         CATTLE 2003-03-01 2004-02-28   \n",
       "3            04842                67         CATTLE 2004-10-16 2005-02-28   \n",
       "4            04842                67         CATTLE 2005-03-01 2005-03-15   \n",
       "\n",
       "  type_use  pl_percent  aums  field_office_id allotment_unique  \n",
       "0   ACTIVE         100    24                1          AZ05316  \n",
       "1   ACTIVE         100    23                1          AZ05316  \n",
       "2   ACTIVE         100   864                1          AZ04810  \n",
       "3   ACTIVE         100   300                1          AZ04842  \n",
       "4   ACTIVE         100    33                1          AZ04842  "
      ]
     },
     "execution_count": 676,
     "metadata": {},
     "output_type": "execute_result"
    }
   ],
   "source": [
    "\n",
    "permits_fo.head()"
   ]
  },
  {
   "cell_type": "code",
   "execution_count": 522,
   "metadata": {
    "collapsed": true
   },
   "outputs": [],
   "source": [
    "#strip the two letter state abbr out of the office code\n",
    "permits_fo['state'] = permits_fo['office_code'].str[2:4]"
   ]
  },
  {
   "cell_type": "code",
   "execution_count": 523,
   "metadata": {
    "collapsed": false
   },
   "outputs": [],
   "source": [
    "#create the unique allotment id by concatenating state abbr with allotment number\n",
    "permits_fo['allotment_unique'] = permits_fo['state'] + permits_fo['allotment_number']"
   ]
  },
  {
   "cell_type": "code",
   "execution_count": 677,
   "metadata": {
    "collapsed": false
   },
   "outputs": [
    {
     "data": {
      "text/plain": [
       "0    AZ05316\n",
       "1    AZ05316\n",
       "2    AZ04810\n",
       "3    AZ04842\n",
       "4    AZ04842\n",
       "Name: allotment_unique, dtype: object"
      ]
     },
     "execution_count": 677,
     "metadata": {},
     "output_type": "execute_result"
    }
   ],
   "source": [
    "#check to see we got it right \n",
    "permits_fo['allotment_unique'].head()"
   ]
  },
  {
   "cell_type": "code",
   "execution_count": 525,
   "metadata": {
    "collapsed": false
   },
   "outputs": [],
   "source": [
    "permits_fo = permits_fo.rename(columns={'Auth No': 'auth_no'})"
   ]
  },
  {
   "cell_type": "code",
   "execution_count": 526,
   "metadata": {
    "collapsed": false
   },
   "outputs": [],
   "source": [
    "permits_fo =  permits_fo[['auth_no', 'pl_effect_dt', 'pl_exp_dt', 'permit_status', 'allotment_number', 'livestock_number', 'livestock_kind', 'pd_beg_dt', 'pd_end_dt', 'type_use', 'pl_percent', 'aums', 'field_office_id', 'allotment_unique']]"
   ]
  },
  {
   "cell_type": "code",
   "execution_count": 678,
   "metadata": {
    "collapsed": false
   },
   "outputs": [
    {
     "data": {
      "text/html": [
       "<div>\n",
       "<table border=\"1\" class=\"dataframe\">\n",
       "  <thead>\n",
       "    <tr style=\"text-align: right;\">\n",
       "      <th></th>\n",
       "      <th>auth_no</th>\n",
       "      <th>pl_effect_dt</th>\n",
       "      <th>pl_exp_dt</th>\n",
       "      <th>permit_status</th>\n",
       "      <th>allotment_number</th>\n",
       "      <th>livestock_number</th>\n",
       "      <th>livestock_kind</th>\n",
       "      <th>pd_beg_dt</th>\n",
       "      <th>pd_end_dt</th>\n",
       "      <th>type_use</th>\n",
       "      <th>pl_percent</th>\n",
       "      <th>aums</th>\n",
       "      <th>field_office_id</th>\n",
       "      <th>allotment_unique</th>\n",
       "    </tr>\n",
       "  </thead>\n",
       "  <tbody>\n",
       "    <tr>\n",
       "      <th>0</th>\n",
       "      <td>0200054</td>\n",
       "      <td>2007-09-01</td>\n",
       "      <td>2017-08-30</td>\n",
       "      <td>NaN</td>\n",
       "      <td>05316</td>\n",
       "      <td>12</td>\n",
       "      <td>CATTLE</td>\n",
       "      <td>2003-03-01</td>\n",
       "      <td>2003-04-30</td>\n",
       "      <td>ACTIVE</td>\n",
       "      <td>100</td>\n",
       "      <td>24</td>\n",
       "      <td>1</td>\n",
       "      <td>AZ05316</td>\n",
       "    </tr>\n",
       "    <tr>\n",
       "      <th>1</th>\n",
       "      <td>0200054</td>\n",
       "      <td>2007-09-01</td>\n",
       "      <td>2017-08-30</td>\n",
       "      <td>NaN</td>\n",
       "      <td>05316</td>\n",
       "      <td>12</td>\n",
       "      <td>CATTLE</td>\n",
       "      <td>2003-01-01</td>\n",
       "      <td>2003-02-28</td>\n",
       "      <td>ACTIVE</td>\n",
       "      <td>100</td>\n",
       "      <td>23</td>\n",
       "      <td>1</td>\n",
       "      <td>AZ05316</td>\n",
       "    </tr>\n",
       "    <tr>\n",
       "      <th>2</th>\n",
       "      <td>0200064</td>\n",
       "      <td>2015-03-01</td>\n",
       "      <td>2025-02-28</td>\n",
       "      <td>FLPMA 402(C)(2)/APPROP ACT</td>\n",
       "      <td>04810</td>\n",
       "      <td>72</td>\n",
       "      <td>CATTLE</td>\n",
       "      <td>2003-03-01</td>\n",
       "      <td>2004-02-28</td>\n",
       "      <td>ACTIVE</td>\n",
       "      <td>100</td>\n",
       "      <td>864</td>\n",
       "      <td>1</td>\n",
       "      <td>AZ04810</td>\n",
       "    </tr>\n",
       "    <tr>\n",
       "      <th>3</th>\n",
       "      <td>0200096</td>\n",
       "      <td>2010-03-01</td>\n",
       "      <td>2017-02-28</td>\n",
       "      <td>FLPMA 402(C)(2)/APPROP ACT</td>\n",
       "      <td>04842</td>\n",
       "      <td>67</td>\n",
       "      <td>CATTLE</td>\n",
       "      <td>2004-10-16</td>\n",
       "      <td>2005-02-28</td>\n",
       "      <td>ACTIVE</td>\n",
       "      <td>100</td>\n",
       "      <td>300</td>\n",
       "      <td>1</td>\n",
       "      <td>AZ04842</td>\n",
       "    </tr>\n",
       "    <tr>\n",
       "      <th>4</th>\n",
       "      <td>0200096</td>\n",
       "      <td>2010-03-01</td>\n",
       "      <td>2017-02-28</td>\n",
       "      <td>FLPMA 402(C)(2)/APPROP ACT</td>\n",
       "      <td>04842</td>\n",
       "      <td>67</td>\n",
       "      <td>CATTLE</td>\n",
       "      <td>2005-03-01</td>\n",
       "      <td>2005-03-15</td>\n",
       "      <td>ACTIVE</td>\n",
       "      <td>100</td>\n",
       "      <td>33</td>\n",
       "      <td>1</td>\n",
       "      <td>AZ04842</td>\n",
       "    </tr>\n",
       "  </tbody>\n",
       "</table>\n",
       "</div>"
      ],
      "text/plain": [
       "   auth_no pl_effect_dt  pl_exp_dt               permit_status  \\\n",
       "0  0200054   2007-09-01 2017-08-30                         NaN   \n",
       "1  0200054   2007-09-01 2017-08-30                         NaN   \n",
       "2  0200064   2015-03-01 2025-02-28  FLPMA 402(C)(2)/APPROP ACT   \n",
       "3  0200096   2010-03-01 2017-02-28  FLPMA 402(C)(2)/APPROP ACT   \n",
       "4  0200096   2010-03-01 2017-02-28  FLPMA 402(C)(2)/APPROP ACT   \n",
       "\n",
       "  allotment_number  livestock_number livestock_kind  pd_beg_dt  pd_end_dt  \\\n",
       "0            05316                12         CATTLE 2003-03-01 2003-04-30   \n",
       "1            05316                12         CATTLE 2003-01-01 2003-02-28   \n",
       "2            04810                72         CATTLE 2003-03-01 2004-02-28   \n",
       "3            04842                67         CATTLE 2004-10-16 2005-02-28   \n",
       "4            04842                67         CATTLE 2005-03-01 2005-03-15   \n",
       "\n",
       "  type_use  pl_percent  aums  field_office_id allotment_unique  \n",
       "0   ACTIVE         100    24                1          AZ05316  \n",
       "1   ACTIVE         100    23                1          AZ05316  \n",
       "2   ACTIVE         100   864                1          AZ04810  \n",
       "3   ACTIVE         100   300                1          AZ04842  \n",
       "4   ACTIVE         100    33                1          AZ04842  "
      ]
     },
     "execution_count": 678,
     "metadata": {},
     "output_type": "execute_result"
    }
   ],
   "source": [
    "permits_fo.head()"
   ]
  },
  {
   "cell_type": "code",
   "execution_count": 528,
   "metadata": {
    "collapsed": false
   },
   "outputs": [],
   "source": [
    "# merge permits with allotments`\n",
    "permits_fo_allot = pd.merge(permits_fo, allotments_with_field_office, on='allotment_unique', how='inner')"
   ]
  },
  {
   "cell_type": "code",
   "execution_count": 529,
   "metadata": {
    "collapsed": true
   },
   "outputs": [],
   "source": [
    "# rename some key columns\n",
    "permits_fo_allot = permits_fo_allot.rename(columns={'id': 'allotment_id', 'field_office_id_x': 'field_office_id', 'auth_no_x': 'auth_no'})"
   ]
  },
  {
   "cell_type": "code",
   "execution_count": 530,
   "metadata": {
    "collapsed": false
   },
   "outputs": [],
   "source": [
    "# select only the columns we need\n",
    "permits_fo_allot = permits_fo_allot[['auth_no', 'pl_effect_dt', 'pl_exp_dt', 'permit_status', 'livestock_number', 'livestock_kind', 'pd_beg_dt', 'pd_end_dt', 'type_use', 'pl_percent', 'aums', 'field_office_id', 'allotment_unique', 'allotment_id']]"
   ]
  },
  {
   "cell_type": "code",
   "execution_count": 531,
   "metadata": {
    "collapsed": true
   },
   "outputs": [],
   "source": [
    "permits_fo_allot_auths = pd.merge(permits_fo_allot, auths, on='auth_no', how='inner')"
   ]
  },
  {
   "cell_type": "code",
   "execution_count": 532,
   "metadata": {
    "collapsed": true
   },
   "outputs": [],
   "source": [
    "permits_fo_allot_auths = permits_fo_allot_auths.rename(columns={'authorization_id': 'auth_no_id', 'field_office_id_x': 'field_office_id'})"
   ]
  },
  {
   "cell_type": "code",
   "execution_count": 533,
   "metadata": {
    "collapsed": false
   },
   "outputs": [],
   "source": [
    "permits_fo_allot_auths = permits_fo_allot_auths[['auth_no', 'pl_effect_dt', 'pl_exp_dt', 'permit_status', 'livestock_number', 'livestock_kind', 'pd_beg_dt', 'pd_end_dt', 'type_use', 'pl_percent', 'aums', 'field_office_id', 'allotment_unique', 'allotment_id', 'auth_no_id']]"
   ]
  },
  {
   "cell_type": "code",
   "execution_count": 534,
   "metadata": {
    "collapsed": false
   },
   "outputs": [
    {
     "data": {
      "text/html": [
       "<div>\n",
       "<table border=\"1\" class=\"dataframe\">\n",
       "  <thead>\n",
       "    <tr style=\"text-align: right;\">\n",
       "      <th></th>\n",
       "      <th>auth_no</th>\n",
       "      <th>pl_effect_dt</th>\n",
       "      <th>pl_exp_dt</th>\n",
       "      <th>permit_status</th>\n",
       "      <th>livestock_number</th>\n",
       "      <th>livestock_kind</th>\n",
       "      <th>pd_beg_dt</th>\n",
       "      <th>pd_end_dt</th>\n",
       "      <th>type_use</th>\n",
       "      <th>pl_percent</th>\n",
       "      <th>aums</th>\n",
       "      <th>field_office_id</th>\n",
       "      <th>allotment_unique</th>\n",
       "      <th>allotment_id</th>\n",
       "      <th>auth_no_id</th>\n",
       "      <th>id</th>\n",
       "    </tr>\n",
       "  </thead>\n",
       "  <tbody>\n",
       "    <tr>\n",
       "      <th>0</th>\n",
       "      <td>0200054</td>\n",
       "      <td>2007-09-01</td>\n",
       "      <td>2017-08-30</td>\n",
       "      <td>NaN</td>\n",
       "      <td>12</td>\n",
       "      <td>CATTLE</td>\n",
       "      <td>2003-03-01</td>\n",
       "      <td>2003-04-30</td>\n",
       "      <td>ACTIVE</td>\n",
       "      <td>100</td>\n",
       "      <td>24</td>\n",
       "      <td>1</td>\n",
       "      <td>AZ05316</td>\n",
       "      <td>99</td>\n",
       "      <td>1</td>\n",
       "      <td>1</td>\n",
       "    </tr>\n",
       "    <tr>\n",
       "      <th>1</th>\n",
       "      <td>0200054</td>\n",
       "      <td>2007-09-01</td>\n",
       "      <td>2017-08-30</td>\n",
       "      <td>NaN</td>\n",
       "      <td>12</td>\n",
       "      <td>CATTLE</td>\n",
       "      <td>2003-01-01</td>\n",
       "      <td>2003-02-28</td>\n",
       "      <td>ACTIVE</td>\n",
       "      <td>100</td>\n",
       "      <td>23</td>\n",
       "      <td>1</td>\n",
       "      <td>AZ05316</td>\n",
       "      <td>99</td>\n",
       "      <td>1</td>\n",
       "      <td>2</td>\n",
       "    </tr>\n",
       "  </tbody>\n",
       "</table>\n",
       "</div>"
      ],
      "text/plain": [
       "   auth_no pl_effect_dt  pl_exp_dt permit_status  livestock_number  \\\n",
       "0  0200054   2007-09-01 2017-08-30           NaN                12   \n",
       "1  0200054   2007-09-01 2017-08-30           NaN                12   \n",
       "\n",
       "  livestock_kind  pd_beg_dt  pd_end_dt type_use  pl_percent  aums  \\\n",
       "0         CATTLE 2003-03-01 2003-04-30   ACTIVE         100    24   \n",
       "1         CATTLE 2003-01-01 2003-02-28   ACTIVE         100    23   \n",
       "\n",
       "   field_office_id allotment_unique  allotment_id  auth_no_id  id  \n",
       "0                1          AZ05316            99           1   1  \n",
       "1                1          AZ05316            99           1   2  "
      ]
     },
     "execution_count": 534,
     "metadata": {},
     "output_type": "execute_result"
    }
   ],
   "source": [
    "permits_fo_allot_auths['id'] = permits_fo_allot_auths.index + 1\n",
    "permits_fo_allot_auths[:2]"
   ]
  },
  {
   "cell_type": "code",
   "execution_count": 535,
   "metadata": {
    "collapsed": true
   },
   "outputs": [],
   "source": [
    "permits_fo_allot_auths['pl_effect_dt'] = permits_fo_allot_auths['pl_effect_dt'].fillna(1930-01-01)\n",
    "permits_fo_allot_auths['pl_exp_dt'] = permits_fo_allot_auths['pl_exp_dt'].fillna(1930-01-01)\n",
    "permits_fo_allot_auths['pd_beg_dt'] = permits_fo_allot_auths['pd_beg_dt'].fillna(1930-01-01)\n",
    "permits_fo_allot_auths['pd_end_dt'] = permits_fo_allot_auths['pd_end_dt'].fillna(1930-01-01)"
   ]
  },
  {
   "cell_type": "code",
   "execution_count": 536,
   "metadata": {
    "collapsed": true
   },
   "outputs": [],
   "source": [
    "permits_fo_allot_auths.to_csv('data/processed/permits.csv')"
   ]
  },
  {
   "cell_type": "markdown",
   "metadata": {},
   "source": [
    "### Allotments and authorizations many-to-many table\n",
    "An outer join of allotment ids, numbers and operator ids, numbers for the Many to Many relationship between allotments and operators"
   ]
  },
  {
   "cell_type": "code",
   "execution_count": 537,
   "metadata": {
    "collapsed": false
   },
   "outputs": [],
   "source": [
    "allotments = allotments.rename(columns={'Auth No': 'auth_no'})\n",
    "allotments_operators = pd.merge(auths, allotments, on=\"auth_no\", how='left')\n",
    "#allotments_operators = allotments_operators.rename(columns={'id': 'operator_id'})"
   ]
  },
  {
   "cell_type": "code",
   "execution_count": 538,
   "metadata": {
    "collapsed": false
   },
   "outputs": [],
   "source": [
    "allotments_operators = pd.merge(allotments_operators, allotments_with_field_office, on='allotment_unique')"
   ]
  },
  {
   "cell_type": "code",
   "execution_count": 539,
   "metadata": {
    "collapsed": false
   },
   "outputs": [],
   "source": [
    "allotments_operators = allotments_operators.rename(columns={'id': 'allotment_id'})"
   ]
  },
  {
   "cell_type": "code",
   "execution_count": 540,
   "metadata": {
    "collapsed": false
   },
   "outputs": [],
   "source": [
    "allotments_operators = allotments_operators[['allotment_id', 'authorization_id']]"
   ]
  },
  {
   "cell_type": "code",
   "execution_count": 541,
   "metadata": {
    "collapsed": false
   },
   "outputs": [],
   "source": [
    "allotments_operators['id'] = allotments_operators.index + 1"
   ]
  },
  {
   "cell_type": "code",
   "execution_count": 542,
   "metadata": {
    "collapsed": false
   },
   "outputs": [],
   "source": [
    "allotments_operators.to_csv('data/processed/allotments_auth_no.csv')"
   ]
  },
  {
   "cell_type": "markdown",
   "metadata": {},
   "source": [
    "-------"
   ]
  },
  {
   "cell_type": "markdown",
   "metadata": {
    "collapsed": true
   },
   "source": [
    "### Health table"
   ]
  },
  {
   "cell_type": "markdown",
   "metadata": {},
   "source": [
    "The health table is in shapefile format, provided by Peter Lattin, landscape ecologist and former BLM contractor, who cleaned and analyzed the data for Public Employees for Environmental Responsibility. \n",
    "\n",
    "See rangeland.grazing.load for how this shapefile is handled.\n",
    "\n",
    "----"
   ]
  },
  {
   "cell_type": "markdown",
   "metadata": {
    "collapsed": true
   },
   "source": [
    "# Analysis for story\n",
    "---"
   ]
  },
  {
   "cell_type": "markdown",
   "metadata": {},
   "source": [
    "### Allotment management plans\n",
    "Finding the total number / percent of allotments lacking an allotment management plan (AMP), and the total number / percent of allotments with an AMP that is more than 10, 20 or 30 years old."
   ]
  },
  {
   "cell_type": "code",
   "execution_count": 543,
   "metadata": {
    "collapsed": false
   },
   "outputs": [],
   "source": [
    "# fill the amp_text nulls with a value so that it can be included in a groupby \n",
    "allots = allotments_with_field_office\n",
    "allots['amp_text'] = allots['amp_text'].fillna('None')"
   ]
  },
  {
   "cell_type": "code",
   "execution_count": 627,
   "metadata": {
    "collapsed": false
   },
   "outputs": [],
   "source": [
    "#allots.info()"
   ]
  },
  {
   "cell_type": "markdown",
   "metadata": {},
   "source": [
    "The count of allotment management plans. \n",
    "Note that roughly 5,000 allotments listed have some form of allotment management plan proposed or implemented, and more than 16,000 allotments have nothing listed."
   ]
  },
  {
   "cell_type": "code",
   "execution_count": 631,
   "metadata": {
    "collapsed": false
   },
   "outputs": [
    {
     "data": {
      "text/plain": [
       "amp_text\n",
       "AMP IMPLEMENTED         4516\n",
       "AMP PROPOSED              79\n",
       "AMP WRITTEN               46\n",
       "AMP/CMP IMPLEMENTED       39\n",
       "CMP IMPLEMENTED          140\n",
       "None                   16445\n",
       "Name: id, dtype: int64"
      ]
     },
     "execution_count": 631,
     "metadata": {},
     "output_type": "execute_result"
    }
   ],
   "source": [
    "allots.groupby('amp_text').count().loc[:,'id']"
   ]
  },
  {
   "cell_type": "markdown",
   "metadata": {},
   "source": [
    "The total number / percent of permits renewed under the appropriations act, without an environmental analysis:"
   ]
  },
  {
   "cell_type": "code",
   "execution_count": 653,
   "metadata": {
    "collapsed": false
   },
   "outputs": [
    {
     "name": "stdout",
     "output_type": "stream",
     "text": [
      "Grouped by AMP status. \"None\" means blank entry in BLM data.\n"
     ]
    },
    {
     "data": {
      "text/html": [
       "<div>\n",
       "<table border=\"1\" class=\"dataframe\">\n",
       "  <thead>\n",
       "    <tr style=\"text-align: right;\">\n",
       "      <th></th>\n",
       "      <th>number_of_allotments</th>\n",
       "      <th>public_acres</th>\n",
       "    </tr>\n",
       "    <tr>\n",
       "      <th>amp_text</th>\n",
       "      <th></th>\n",
       "      <th></th>\n",
       "    </tr>\n",
       "  </thead>\n",
       "  <tbody>\n",
       "    <tr>\n",
       "      <th>AMP IMPLEMENTED</th>\n",
       "      <td>4516</td>\n",
       "      <td>80316572</td>\n",
       "    </tr>\n",
       "    <tr>\n",
       "      <th>AMP PROPOSED</th>\n",
       "      <td>79</td>\n",
       "      <td>1018533</td>\n",
       "    </tr>\n",
       "    <tr>\n",
       "      <th>AMP WRITTEN</th>\n",
       "      <td>46</td>\n",
       "      <td>414191</td>\n",
       "    </tr>\n",
       "    <tr>\n",
       "      <th>AMP/CMP IMPLEMENTED</th>\n",
       "      <td>39</td>\n",
       "      <td>1224730</td>\n",
       "    </tr>\n",
       "    <tr>\n",
       "      <th>CMP IMPLEMENTED</th>\n",
       "      <td>140</td>\n",
       "      <td>1915468</td>\n",
       "    </tr>\n",
       "    <tr>\n",
       "      <th>None</th>\n",
       "      <td>16445</td>\n",
       "      <td>69616261</td>\n",
       "    </tr>\n",
       "  </tbody>\n",
       "</table>\n",
       "</div>"
      ],
      "text/plain": [
       "                     number_of_allotments  public_acres\n",
       "amp_text                                               \n",
       "AMP IMPLEMENTED                      4516      80316572\n",
       "AMP PROPOSED                           79       1018533\n",
       "AMP WRITTEN                            46        414191\n",
       "AMP/CMP IMPLEMENTED                    39       1224730\n",
       "CMP IMPLEMENTED                       140       1915468\n",
       "None                                16445      69616261"
      ]
     },
     "execution_count": 653,
     "metadata": {},
     "output_type": "execute_result"
    }
   ],
   "source": [
    "# send it to a new dataframe\n",
    "by_amp = pd.DataFrame({\n",
    "        \"public_acres\": allots.groupby('amp_text').sum().loc[:,'public_acres'], \n",
    "        \"number_of_allotments\": allots.groupby('amp_text').count().loc[:,'id']\n",
    "    })\n",
    "\n",
    "print 'Grouped by AMP status. \"None\" means blank entry in BLM data.'\n",
    "by_amp"
   ]
  },
  {
   "cell_type": "markdown",
   "metadata": {},
   "source": [
    "The percent of acres BLM allots for grazing that do not have an allotment management plan:"
   ]
  },
  {
   "cell_type": "code",
   "execution_count": 633,
   "metadata": {
    "collapsed": false
   },
   "outputs": [
    {
     "name": "stdout",
     "output_type": "stream",
     "text": [
      "About 77.0 percent of allotments, 16445 in total, do not have an allotment management plan listed. This represents roughly 45.0 percent of the total number of acres.\n"
     ]
    }
   ],
   "source": [
    "acres_without_amps = by_amp['public_acres'][5:6].sum() / by_amp['public_acres'].sum()\n",
    "allotments_without_amps =  by_amp['number_of_allotments'][5:6].sum() / by_amp['number_of_allotments'].sum()\n",
    "\n",
    "print \"About {} percent of allotments, {} in total, do not have an allotment management plan listed. This represents roughly {} percent of the total number of acres.\".format(round(allotments_without_amps * 100), by_amp['number_of_allotments'][5:6].sum(), round(acres_without_amps * 100))"
   ]
  },
  {
   "cell_type": "markdown",
   "metadata": {},
   "source": [
    "### Appropriations Act permit approval\n",
    "The number and percent of permits renewed under the appropriations act (without an environmental analysis)."
   ]
  },
  {
   "cell_type": "code",
   "execution_count": 672,
   "metadata": {
    "collapsed": false
   },
   "outputs": [
    {
     "name": "stdout",
     "output_type": "stream",
     "text": [
      "Grouped by the status of the permit. Note the nubmer of permits approved under FLPMA 402(C)(2)/Appropriations Act\n"
     ]
    },
    {
     "data": {
      "text/html": [
       "<div>\n",
       "<table border=\"1\" class=\"dataframe\">\n",
       "  <thead>\n",
       "    <tr style=\"text-align: right;\">\n",
       "      <th></th>\n",
       "      <th>number_of_permits</th>\n",
       "    </tr>\n",
       "    <tr>\n",
       "      <th>permit_status</th>\n",
       "      <th></th>\n",
       "    </tr>\n",
       "  </thead>\n",
       "  <tbody>\n",
       "    <tr>\n",
       "      <th>Blank</th>\n",
       "      <td>20039</td>\n",
       "    </tr>\n",
       "    <tr>\n",
       "      <th>DECISION-STAYED</th>\n",
       "      <td>97</td>\n",
       "    </tr>\n",
       "    <tr>\n",
       "      <th>FLPMA 402(C)(2)/APPROP ACT</th>\n",
       "      <td>13473</td>\n",
       "    </tr>\n",
       "    <tr>\n",
       "      <th>HOLD</th>\n",
       "      <td>328</td>\n",
       "    </tr>\n",
       "  </tbody>\n",
       "</table>\n",
       "</div>"
      ],
      "text/plain": [
       "                            number_of_permits\n",
       "permit_status                                \n",
       "Blank                                   20039\n",
       "DECISION-STAYED                            97\n",
       "FLPMA 402(C)(2)/APPROP ACT              13473\n",
       "HOLD                                      328"
      ]
     },
     "execution_count": 672,
     "metadata": {},
     "output_type": "execute_result"
    }
   ],
   "source": [
    "#create a new df we'll use for the analysis by compying permits dataframe\n",
    "permits_for_analysis = permits\n",
    "\n",
    "#fill the blanks with a string so we can use it as a group by category\n",
    "permits_for_analysis['permit_status'] = permits_for_analysis['permit_status'].fillna('Blank')\n",
    "\n",
    "#create a new data frame with just the info we need for our analysis\n",
    "by_permit = pd.DataFrame({\n",
    "        \"number_of_permits\": permits_for_analysis.groupby('permit_status').count().loc[:,'allotment_number']\n",
    "    })\n",
    "\n",
    "#and print that dataframe\n",
    "print \"Grouped by the status of the permit. Note the nubmer of permits approved under FLPMA 402(C)(2)/Appropriations Act\"\n",
    "by_permit"
   ]
  },
  {
   "cell_type": "markdown",
   "metadata": {
    "collapsed": false
   },
   "source": [
    "** Percent of permits issued without an environmental assessment **"
   ]
  },
  {
   "cell_type": "code",
   "execution_count": 673,
   "metadata": {
    "collapsed": false
   },
   "outputs": [
    {
     "data": {
      "text/plain": [
       "'Roughly 40.0 percent of existing permits were issued under the Appropriations Act rider that allows permits to be renewed for 10 years as-is without review.'"
      ]
     },
     "execution_count": 673,
     "metadata": {},
     "output_type": "execute_result"
    }
   ],
   "source": [
    "pct_appropriations_act = by_permit['number_of_permits'][2:3].sum() / by_permit['number_of_permits'].sum()\n",
    "\n",
    "\"Roughly {} percent of existing permits were issued under the Appropriations Act rider that allows permits to be renewed for 10 years as-is without review.\".format(round(pct_appropriations_act * 100))"
   ]
  },
  {
   "cell_type": "markdown",
   "metadata": {
    "collapsed": true
   },
   "source": [
    "### Further questions:\n",
    "* How many permits issued under NEPA exemption were on allotments that do not meet health standard or are considered \"needing improvement\"?\n",
    "* How many allotments in the needing improvement category are missing an allotment management plan? "
   ]
  },
  {
   "cell_type": "markdown",
   "metadata": {},
   "source": []
  }
 ],
 "metadata": {
  "kernelspec": {
   "display_name": "Python 2",
   "language": "python",
   "name": "python2"
  },
  "language_info": {
   "codemirror_mode": {
    "name": "ipython",
    "version": 2
   },
   "file_extension": ".py",
   "mimetype": "text/x-python",
   "name": "python",
   "nbconvert_exporter": "python",
   "pygments_lexer": "ipython2",
   "version": "2.7.10"
  }
 },
 "nbformat": 4,
 "nbformat_minor": 0
}
