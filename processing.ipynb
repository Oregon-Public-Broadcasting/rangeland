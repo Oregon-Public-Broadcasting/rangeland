{
 "cells": [
  {
   "cell_type": "code",
   "execution_count": 459,
   "metadata": {
    "collapsed": true
   },
   "outputs": [],
   "source": [
    "# import necessary python modules\n",
    "import csv\n",
    "import pandas as pd\n",
    "import numpy as np"
   ]
  },
  {
   "cell_type": "markdown",
   "metadata": {
    "collapsed": true
   },
   "source": [
    "### Create new data frames and import raw data\n",
    "---"
   ]
  },
  {
   "cell_type": "code",
   "execution_count": 460,
   "metadata": {
    "collapsed": false
   },
   "outputs": [],
   "source": [
    "# create a list of the states we'll be analyzing, will be used frequently\n",
    "statelist = [\"AZ\", \"CA\", \"CO\", \"ID\", \"MT\", \"NM\", \"NV\", \"OR\", \"UT\", \"WY\"]"
   ]
  },
  {
   "cell_type": "code",
   "execution_count": 461,
   "metadata": {
    "collapsed": false
   },
   "outputs": [],
   "source": [
    "# Create a new empty DataFrame for each table\n",
    "allotments = pd.DataFrame()\n",
    "operators = pd.DataFrame()\n",
    "permits = pd.DataFrame()\n",
    "health = pd.DataFrame()\n",
    "\n",
    "#create a variable storing the path for each set of raw files\n",
    "allotments_path = 'data/rangeland-administration-system/allotment-info/'\n",
    "operators_path = 'data/rangeland-administration-system/operator-info/'\n",
    "permits_path = 'data/rangeland-administration-system/permit-schedule-info/'\n",
    "health_path = 'data/rangeland-health/'\n",
    "\n",
    "# Import those files for allotments ... (probably should be a function)\n",
    "for s in statelist:\n",
    "    csv_file = '{}{}.csv'.format(allotments_path, s)\n",
    "    new_data = pd.read_csv(csv_file, dtype={'Allotment Number': 'object', 'Auth No': 'object'})\n",
    "    allotments = allotments.append(new_data)\n",
    "\n",
    "# ... and for operators\n",
    "for s in statelist:\n",
    "    csv_file = '{}{}.csv'.format(operators_path, s)\n",
    "    new_data = pd.read_csv(csv_file, dtype={'Allotment Number': 'object', 'Auth No': 'object'})\n",
    "    operators = operators.append(new_data)\n",
    "\n",
    "# ... and for permits\n",
    "for s in statelist:\n",
    "    csv_file = '{}{}.csv'.format(permits_path, s)\n",
    "    new_data = pd.read_csv(csv_file, dtype={'Allotment Number': 'object', 'Auth No': 'object'})\n",
    "    permits = permits.append(new_data)\n",
    "\n",
    "# ... and for land health standards\n",
    "for s in statelist:\n",
    "    csv_file = '{}{}.csv'.format(health_path, s)\n",
    "    new_data = pd.read_csv(csv_file, dtype={'Allotment Number': 'object', 'Auth No': 'object'})\n",
    "    health = health.append(new_data)"
   ]
  },
  {
   "cell_type": "markdown",
   "metadata": {
    "collapsed": false
   },
   "source": [
    "### Process Field Offices table\n",
    "---\n",
    "\n",
    "Creating a unique entry for each field office with an ID that can be referenced by other tables"
   ]
  },
  {
   "cell_type": "code",
   "execution_count": 462,
   "metadata": {
    "collapsed": false
   },
   "outputs": [],
   "source": [
    "# create a new df with field office info\n",
    "field_offices = allotments[[\"Admin Office\", \"Field Office\"]]"
   ]
  },
  {
   "cell_type": "code",
   "execution_count": 463,
   "metadata": {
    "collapsed": false
   },
   "outputs": [],
   "source": [
    "#  select only uniques from the DB\n",
    "field_offices.drop_duplicates('Admin Office', inplace = True)"
   ]
  },
  {
   "cell_type": "code",
   "execution_count": 464,
   "metadata": {
    "collapsed": false
   },
   "outputs": [],
   "source": [
    "# save and re-read as a CSV for a janky but fast way of generating unique IDs starting at 1\n",
    "field_offices.to_csv('data/processed/field_offices.csv')\n",
    "field_offices = pd.read_csv('data/processed/field_offices.csv')"
   ]
  },
  {
   "cell_type": "code",
   "execution_count": 465,
   "metadata": {
    "collapsed": false
   },
   "outputs": [],
   "source": [
    "# Create a new column for field office state.\n",
    "field_offices[\"State\"] = field_offices[\"Admin Office\"]\n",
    "field_offices[\"State\"] = field_offices[\"State\"].str[2:4]"
   ]
  },
  {
   "cell_type": "code",
   "execution_count": 466,
   "metadata": {
    "collapsed": false
   },
   "outputs": [],
   "source": [
    "field_offices.loc[field_offices['State'] == 'AZ', 'StateCode'] = 1\n",
    "field_offices.loc[field_offices['State'] == 'CA', 'StateCode'] = 2\n",
    "field_offices.loc[field_offices['State'] == 'CO', 'StateCode'] = 3\n",
    "field_offices.loc[field_offices['State'] == 'ID', 'StateCode'] = 4\n",
    "field_offices.loc[field_offices['State'] == 'MT', 'StateCode'] = 5\n",
    "field_offices.loc[field_offices['State'] == 'NM', 'StateCode'] = 6\n",
    "field_offices.loc[field_offices['State'] == 'NV', 'StateCode'] = 7\n",
    "field_offices.loc[field_offices['State'] == 'OR', 'StateCode'] = 8\n",
    "field_offices.loc[field_offices['State'] == 'UT', 'StateCode'] = 9\n",
    "field_offices.loc[field_offices['State'] == 'WY', 'StateCode'] = 10\n",
    "\n",
    "field_offices['StateCode'] = field_offices['StateCode'].astype('int64')"
   ]
  },
  {
   "cell_type": "code",
   "execution_count": 467,
   "metadata": {
    "collapsed": false
   },
   "outputs": [],
   "source": [
    "field_offices['id'] = field_offices.index\n",
    "field_offices['id'] = field_offices['id'] + 1"
   ]
  },
  {
   "cell_type": "code",
   "execution_count": 468,
   "metadata": {
    "collapsed": false
   },
   "outputs": [],
   "source": [
    "field_offices=field_offices.rename(columns = {'Admin Office':'office_code', 'Field Office': 'office_name', 'StateCode': 'state_id'})"
   ]
  },
  {
   "cell_type": "code",
   "execution_count": 469,
   "metadata": {
    "collapsed": false
   },
   "outputs": [],
   "source": [
    "field_offices = field_offices[['id', 'office_code', 'office_name', 'state_id']]\n",
    "field_offices.to_csv(\"data/processed/field_offices.csv\")"
   ]
  },
  {
   "cell_type": "markdown",
   "metadata": {},
   "source": [
    "### Process operators table\n",
    "---\n",
    "\n",
    "Create a table of operators linked to field offices, and with a unique ID that can be referencecd by other tables"
   ]
  },
  {
   "cell_type": "code",
   "execution_count": 470,
   "metadata": {
    "collapsed": false
   },
   "outputs": [],
   "source": [
    "#rename operators columsn to remove spaces and capital\n",
    "operators=operators.rename(columns = {'Off CD': 'office_code', 'Auth No':'auth_no', 'Operator Display Name': 'operator_display_name', 'Address1': 'address1', 'Address2': 'address2', 'City': 'city', 'Phone Number': 'phone_number', 'Release Text': 'release_text', 'Zipcode1 5': 'zipcode15', 'Zipcode6 9': 'zipcode69'})"
   ]
  },
  {
   "cell_type": "code",
   "execution_count": 471,
   "metadata": {
    "collapsed": false
   },
   "outputs": [],
   "source": [
    "#assign an id based on the index, but skip the 0\n",
    "operators[\"id\"] = operators.index + 1"
   ]
  },
  {
   "cell_type": "code",
   "execution_count": 472,
   "metadata": {
    "collapsed": true
   },
   "outputs": [],
   "source": [
    "#create a new dataframe that joins operators with field offices\n",
    "new_ops = pd.merge(operators, field_offices, on='office_code', how='inner')"
   ]
  },
  {
   "cell_type": "code",
   "execution_count": 473,
   "metadata": {
    "collapsed": false
   },
   "outputs": [],
   "source": [
    "#that worked great now overwrite operators with that same data\n",
    "operators = new_ops"
   ]
  },
  {
   "cell_type": "code",
   "execution_count": 474,
   "metadata": {
    "collapsed": false
   },
   "outputs": [],
   "source": [
    "#rename the two different id fields so we've got what we want.\n",
    "operators['id'] = operators['id_x'].astype(int)\n",
    "operators['field_office_id'] = operators['id_y'].astype(int)"
   ]
  },
  {
   "cell_type": "code",
   "execution_count": 475,
   "metadata": {
    "collapsed": false
   },
   "outputs": [],
   "source": [
    "# shed the data we don't want by reassigning the variable name 'operators' new a new dataframe with only these columns selected\n",
    "operators = operators[['id', 'auth_no', 'operator_display_name', 'address1', 'address2', 'city', 'zipcode15', 'zipcode69', 'ST2', 'phone_number', 'release_text', 'field_office_id']]"
   ]
  },
  {
   "cell_type": "code",
   "execution_count": 476,
   "metadata": {
    "collapsed": false
   },
   "outputs": [],
   "source": [
    "#write that new datafame out to a CSV that can easily be uploaded into Django\n",
    "operators.to_csv('data/processed/operators.csv')"
   ]
  },
  {
   "cell_type": "markdown",
   "metadata": {},
   "source": [
    "### Process allotments table\n",
    "---\n",
    "\n",
    "Create a table of operators linked to field offices and operators, along witha unique ID that can be referencecd by other tables such as \"health\" and \"boundary\""
   ]
  },
  {
   "cell_type": "code",
   "execution_count": null,
   "metadata": {
    "collapsed": false
   },
   "outputs": [],
   "source": []
  },
  {
   "cell_type": "code",
   "execution_count": 477,
   "metadata": {
    "collapsed": true
   },
   "outputs": [],
   "source": [
    "#save a copy of all the states to a new csv just because\n",
    "allotments.to_csv('data/rangeland-administration-system/allotment-info/all_states.csv')"
   ]
  },
  {
   "cell_type": "code",
   "execution_count": 478,
   "metadata": {
    "collapsed": true
   },
   "outputs": [],
   "source": [
    "#create a new column with unique id for allotments based on state and allotment number (allotment numbers are unique within states according to BLM documentation)\n",
    "allotments['allotment_unique'] = allotments['Adm State'] + allotments['Allotment Number']"
   ]
  },
  {
   "cell_type": "code",
   "execution_count": 479,
   "metadata": {
    "collapsed": false
   },
   "outputs": [
    {
     "data": {
      "text/plain": [
       "0    AZ00096\n",
       "1    AZ00097\n",
       "2    AZ00099\n",
       "3    AZ00114\n",
       "4    AZ00119\n",
       "Name: allotment_unique, dtype: object"
      ]
     },
     "execution_count": 479,
     "metadata": {},
     "output_type": "execute_result"
    }
   ],
   "source": [
    "#check the first few lines to make sure we're all good\n",
    "allotments[\"allotment_unique\"][:5]"
   ]
  },
  {
   "cell_type": "code",
   "execution_count": 480,
   "metadata": {
    "collapsed": false
   },
   "outputs": [],
   "source": [
    "# create a new dataframe and drop the duplicate allotment numbers out of it\n",
    "allotments_trimmed = allotments[['allotment_unique', 'Admin Office', 'Allotment Name', 'Allotment Number', 'Available For Grazing', 'Grazing Decision', 'Public Acres', 'Amp Text', 'Amp Implement Date', 'Management Stat Text']]"
   ]
  },
  {
   "cell_type": "code",
   "execution_count": 481,
   "metadata": {
    "collapsed": false
   },
   "outputs": [],
   "source": [
    "# drop the duplicates out of it\n",
    "allotments_trimmed.drop_duplicates('allotment_unique', inplace = True)"
   ]
  },
  {
   "cell_type": "code",
   "execution_count": 482,
   "metadata": {
    "collapsed": false
   },
   "outputs": [],
   "source": [
    "# rename columns to get rid of messy spaces and capitals\n",
    "allotments_trimmed = allotments_trimmed.rename(columns={'Admin Office': 'office_code', 'Allotment Number': 'allotment_number', 'Allotment Name': 'allotment_name', 'Available For Grazing': 'available_for_grazing', 'Grazing Decision': 'grazing_decision', 'Public Acres': 'public_acres', 'Amp Text': 'amp_text', 'Amp Implement Date': 'amp_implement_date', 'Management Stat Text': 'management_stat_text'})"
   ]
  },
  {
   "cell_type": "code",
   "execution_count": 483,
   "metadata": {
    "collapsed": false
   },
   "outputs": [
    {
     "data": {
      "text/html": [
       "<div>\n",
       "<table border=\"1\" class=\"dataframe\">\n",
       "  <thead>\n",
       "    <tr style=\"text-align: right;\">\n",
       "      <th></th>\n",
       "      <th>allotment_unique</th>\n",
       "      <th>office_code</th>\n",
       "      <th>allotment_name</th>\n",
       "      <th>allotment_number</th>\n",
       "      <th>available_for_grazing</th>\n",
       "      <th>grazing_decision</th>\n",
       "      <th>public_acres</th>\n",
       "      <th>amp_text</th>\n",
       "      <th>amp_implement_date</th>\n",
       "      <th>management_stat_text</th>\n",
       "    </tr>\n",
       "  </thead>\n",
       "  <tbody>\n",
       "    <tr>\n",
       "      <th>0</th>\n",
       "      <td>AZ00096</td>\n",
       "      <td>LLAZA01000</td>\n",
       "      <td>HERD HOUSE</td>\n",
       "      <td>00096</td>\n",
       "      <td>Y</td>\n",
       "      <td>NaN</td>\n",
       "      <td>2,390</td>\n",
       "      <td>AMP IMPLEMENTED</td>\n",
       "      <td>11/01/1981</td>\n",
       "      <td>MAINTAIN CATEGORY</td>\n",
       "    </tr>\n",
       "    <tr>\n",
       "      <th>1</th>\n",
       "      <td>AZ00097</td>\n",
       "      <td>LLAZA01000</td>\n",
       "      <td>TUCKUP</td>\n",
       "      <td>00097</td>\n",
       "      <td>Y</td>\n",
       "      <td>NaN</td>\n",
       "      <td>16,276</td>\n",
       "      <td>NaN</td>\n",
       "      <td>NaN</td>\n",
       "      <td>MAINTAIN CATEGORY</td>\n",
       "    </tr>\n",
       "    <tr>\n",
       "      <th>2</th>\n",
       "      <td>AZ00099</td>\n",
       "      <td>LLAZA01000</td>\n",
       "      <td>ROCK CANYON</td>\n",
       "      <td>00099</td>\n",
       "      <td>Y</td>\n",
       "      <td>NaN</td>\n",
       "      <td>1,343</td>\n",
       "      <td>NaN</td>\n",
       "      <td>NaN</td>\n",
       "      <td>CUSTODIAL CATEGORY</td>\n",
       "    </tr>\n",
       "    <tr>\n",
       "      <th>3</th>\n",
       "      <td>AZ00114</td>\n",
       "      <td>LLAZA01000</td>\n",
       "      <td>HURRICANE RIM</td>\n",
       "      <td>00114</td>\n",
       "      <td>Y</td>\n",
       "      <td>NaN</td>\n",
       "      <td>33,099</td>\n",
       "      <td>AMP IMPLEMENTED</td>\n",
       "      <td>08/30/1983</td>\n",
       "      <td>MAINTAIN CATEGORY</td>\n",
       "    </tr>\n",
       "    <tr>\n",
       "      <th>4</th>\n",
       "      <td>AZ00119</td>\n",
       "      <td>LLAZA01000</td>\n",
       "      <td>BIG WARREN</td>\n",
       "      <td>00119</td>\n",
       "      <td>Y</td>\n",
       "      <td>NaN</td>\n",
       "      <td>9,647</td>\n",
       "      <td>AMP IMPLEMENTED</td>\n",
       "      <td>06/27/1991</td>\n",
       "      <td>IMPROVE CATEGORY</td>\n",
       "    </tr>\n",
       "  </tbody>\n",
       "</table>\n",
       "</div>"
      ],
      "text/plain": [
       "  allotment_unique office_code allotment_name allotment_number  \\\n",
       "0          AZ00096  LLAZA01000     HERD HOUSE            00096   \n",
       "1          AZ00097  LLAZA01000         TUCKUP            00097   \n",
       "2          AZ00099  LLAZA01000    ROCK CANYON            00099   \n",
       "3          AZ00114  LLAZA01000  HURRICANE RIM            00114   \n",
       "4          AZ00119  LLAZA01000     BIG WARREN            00119   \n",
       "\n",
       "  available_for_grazing grazing_decision public_acres         amp_text  \\\n",
       "0                     Y              NaN        2,390  AMP IMPLEMENTED   \n",
       "1                     Y              NaN       16,276              NaN   \n",
       "2                     Y              NaN        1,343              NaN   \n",
       "3                     Y              NaN       33,099  AMP IMPLEMENTED   \n",
       "4                     Y              NaN        9,647  AMP IMPLEMENTED   \n",
       "\n",
       "  amp_implement_date management_stat_text  \n",
       "0         11/01/1981    MAINTAIN CATEGORY  \n",
       "1                NaN    MAINTAIN CATEGORY  \n",
       "2                NaN   CUSTODIAL CATEGORY  \n",
       "3         08/30/1983    MAINTAIN CATEGORY  \n",
       "4         06/27/1991     IMPROVE CATEGORY  "
      ]
     },
     "execution_count": 483,
     "metadata": {},
     "output_type": "execute_result"
    }
   ],
   "source": [
    "# check it out to make sure we're still good ... \n",
    "allotments_trimmed[:5]"
   ]
  },
  {
   "cell_type": "code",
   "execution_count": 484,
   "metadata": {
    "collapsed": true
   },
   "outputs": [],
   "source": [
    "# join it with field office\n",
    "allotments_with_field_office = pd.merge(allotments_trimmed, field_offices, on='office_code', how='inner')"
   ]
  },
  {
   "cell_type": "code",
   "execution_count": 485,
   "metadata": {
    "collapsed": false
   },
   "outputs": [
    {
     "data": {
      "text/plain": [
       "count      21205.000000\n",
       "mean        7286.288847\n",
       "std        30588.340811\n",
       "min            0.000000\n",
       "25%          240.000000\n",
       "50%          960.000000\n",
       "75%         4091.000000\n",
       "max      1459993.000000\n",
       "Name: public_acres, dtype: float64"
      ]
     },
     "execution_count": 485,
     "metadata": {},
     "output_type": "execute_result"
    }
   ],
   "source": [
    "#strip the comma out of \"public acres\" and convert it to a float field so we can calc on it. Then describe() just to make sure it worked\n",
    "allotments_with_field_office['public_acres'] = allotments_with_field_office['public_acres'].str.replace(',', '')\n",
    "allotments_with_field_office['public_acres'] = allotments_with_field_office['public_acres'].astype(float)\n",
    "allotments_with_field_office['public_acres'].describe()"
   ]
  },
  {
   "cell_type": "code",
   "execution_count": 486,
   "metadata": {
    "collapsed": false
   },
   "outputs": [],
   "source": [
    "allotments_with_field_office = allotments_with_field_office.rename(columns={'id': 'field_office_id'})"
   ]
  },
  {
   "cell_type": "code",
   "execution_count": 487,
   "metadata": {
    "collapsed": false
   },
   "outputs": [],
   "source": [
    "#reassign the variable name to a data frame selecting only the fields we want for our table\n",
    "allotments_with_field_office = allotments_with_field_office[['allotment_unique', 'allotment_number', 'allotment_name', 'available_for_grazing', 'grazing_decision', 'public_acres', 'amp_text', 'management_stat_text', 'field_office_id', 'amp_implement_date']]"
   ]
  },
  {
   "cell_type": "code",
   "execution_count": 488,
   "metadata": {
    "collapsed": false
   },
   "outputs": [
    {
     "data": {
      "text/plain": [
       "0       1981-11-01 00:00:00.000000000\n",
       "1       1970-01-01 00:00:00.000001928\n",
       "2       1970-01-01 00:00:00.000001928\n",
       "3       1983-08-30 00:00:00.000000000\n",
       "4       1991-06-27 00:00:00.000000000\n",
       "5       1970-01-01 00:00:00.000001928\n",
       "6       1971-03-01 00:00:00.000000000\n",
       "7       1970-01-01 00:00:00.000001928\n",
       "8       1974-07-01 00:00:00.000000000\n",
       "9       1976-03-01 00:00:00.000000000\n",
       "10      1985-02-01 00:00:00.000000000\n",
       "11      1985-02-01 00:00:00.000000000\n",
       "12      1983-09-01 00:00:00.000000000\n",
       "13      1968-07-01 00:00:00.000000000\n",
       "14      1988-02-01 00:00:00.000000000\n",
       "15      1970-01-01 00:00:00.000001928\n",
       "16      1970-01-01 00:00:00.000001928\n",
       "17      1968-04-01 00:00:00.000000000\n",
       "18      1967-08-01 00:00:00.000000000\n",
       "19      1988-01-01 00:00:00.000000000\n",
       "20      1983-03-01 00:00:00.000000000\n",
       "21      1970-01-01 00:00:00.000001928\n",
       "22      1970-01-01 00:00:00.000001928\n",
       "23      1972-02-01 00:00:00.000000000\n",
       "24      1990-03-01 00:00:00.000000000\n",
       "25      1982-03-01 00:00:00.000000000\n",
       "26      1982-03-01 00:00:00.000000000\n",
       "27      1979-10-01 00:00:00.000000000\n",
       "28      1981-01-01 00:00:00.000000000\n",
       "29      1970-01-01 00:00:00.000001928\n",
       "                     ...             \n",
       "21235   1992-06-11 00:00:00.000000000\n",
       "21236   1992-06-11 00:00:00.000000000\n",
       "21237   1970-01-01 00:00:00.000001928\n",
       "21238   1970-01-01 00:00:00.000001928\n",
       "21239   1970-01-01 00:00:00.000001928\n",
       "21240   1987-10-01 00:00:00.000000000\n",
       "21241   1970-01-01 00:00:00.000001928\n",
       "21242   1992-06-11 00:00:00.000000000\n",
       "21243   1970-01-01 00:00:00.000001928\n",
       "21244   1970-01-01 00:00:00.000001928\n",
       "21245   1970-01-01 00:00:00.000001928\n",
       "21246   1970-01-01 00:00:00.000001928\n",
       "21247   1970-01-01 00:00:00.000001928\n",
       "21248   1970-01-01 00:00:00.000001928\n",
       "21249   1970-01-01 00:00:00.000001928\n",
       "21250   1987-10-01 00:00:00.000000000\n",
       "21251   1970-01-01 00:00:00.000001928\n",
       "21252   1970-01-01 00:00:00.000001928\n",
       "21253   1970-01-01 00:00:00.000001928\n",
       "21254   1988-03-01 00:00:00.000000000\n",
       "21255   1988-03-01 00:00:00.000000000\n",
       "21256   1988-03-01 00:00:00.000000000\n",
       "21257   1970-01-01 00:00:00.000001928\n",
       "21258   1970-01-01 00:00:00.000001928\n",
       "21259   1970-01-01 00:00:00.000001928\n",
       "21260   1970-01-01 00:00:00.000001928\n",
       "21261   1970-01-01 00:00:00.000001928\n",
       "21262   1992-06-11 00:00:00.000000000\n",
       "21263   1988-03-01 00:00:00.000000000\n",
       "21264   1970-01-01 00:00:00.000001928\n",
       "Name: amp_implement_date, dtype: datetime64[ns]"
      ]
     },
     "execution_count": 488,
     "metadata": {},
     "output_type": "execute_result"
    }
   ],
   "source": [
    "#convert 'amp_implement_date' into a Django-friendly format, then check it with the first five rows jsut to make sure\n",
    "allotments_with_field_office['amp_implement_date'] = pd.to_datetime(allotments_with_field_office['amp_implement_date'])\n",
    "\n",
    "# fill the nulls with a common date that none of the actual dates will match and that we can filter out later\n",
    "# this is to help avoid an error on postgres import\n",
    "allotments_with_field_office['amp_implement_date'] = allotments_with_field_office['amp_implement_date'].fillna(1930-01-01)\n",
    "\n",
    "allotments_with_field_office['amp_implement_date']\n",
    "\n"
   ]
  },
  {
   "cell_type": "code",
   "execution_count": 489,
   "metadata": {
    "collapsed": false
   },
   "outputs": [
    {
     "data": {
      "text/plain": [
       "0    1\n",
       "1    2\n",
       "2    3\n",
       "3    4\n",
       "4    5\n",
       "Name: id, dtype: int64"
      ]
     },
     "execution_count": 489,
     "metadata": {},
     "output_type": "execute_result"
    }
   ],
   "source": [
    "# assign each allotment a unique id\n",
    "allotments_with_field_office['id'] = allotments_with_field_office.index + 1\n",
    "allotments_with_field_office['id'][:5]"
   ]
  },
  {
   "cell_type": "code",
   "execution_count": 490,
   "metadata": {
    "collapsed": true
   },
   "outputs": [],
   "source": [
    "allotments_with_field_office.to_csv('data/processed/allotments.csv')"
   ]
  },
  {
   "cell_type": "code",
   "execution_count": null,
   "metadata": {
    "collapsed": true
   },
   "outputs": [],
   "source": []
  }
 ],
 "metadata": {
  "kernelspec": {
   "display_name": "Python 2",
   "language": "python",
   "name": "python2"
  },
  "language_info": {
   "codemirror_mode": {
    "name": "ipython",
    "version": 2
   },
   "file_extension": ".py",
   "mimetype": "text/x-python",
   "name": "python",
   "nbconvert_exporter": "python",
   "pygments_lexer": "ipython2",
   "version": "2.7.10"
  }
 },
 "nbformat": 4,
 "nbformat_minor": 0
}
