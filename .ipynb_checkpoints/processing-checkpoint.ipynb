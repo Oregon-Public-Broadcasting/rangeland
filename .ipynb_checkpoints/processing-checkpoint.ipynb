{
 "cells": [
  {
   "cell_type": "markdown",
   "metadata": {},
   "source": [
    "\n",
    "# BLM rangeland health\n",
    "\n",
    "An anlysis of BLM environmental policies and the health of Western state rangelands used for livestock grazing.\n",
    "\n",
    "Allotment, operator and permit tables were downloaded from [BLM Rangeland Administration System](http://www.blm.gov/ras/). Excel files were re-saved as CSV.\n",
    "\n",
    "Rangeland Health Assessment data was provided by Public Employees for Enivronmental Responsibility, which obtained the data from BLM through the Freedom of Information Act.\n",
    "\n",
    "The code below a) [prepares this data](#django) for use in a Django web applciation and b) [analyzes the data](#analysis) to assess rangeland health and the implementation of various BLM policies such as environmental impact assessments, allotment management plans and rangeland health monitoring.\n",
    "\n",
    "---"
   ]
  },
  {
   "cell_type": "markdown",
   "metadata": {},
   "source": [
    "## Import necessary python modules"
   ]
  },
  {
   "cell_type": "code",
   "execution_count": 883,
   "metadata": {
    "collapsed": true
   },
   "outputs": [],
   "source": [
    "import csv\n",
    "import pandas as pd\n",
    "import numpy as np\n",
    "from __future__ import division "
   ]
  },
  {
   "cell_type": "markdown",
   "metadata": {
    "collapsed": true
   },
   "source": [
    "## Create new data frames and import raw data\n"
   ]
  },
  {
   "cell_type": "code",
   "execution_count": 884,
   "metadata": {
    "collapsed": false
   },
   "outputs": [],
   "source": [
    "# create a list of the states we'll be analyzing, will be used frequently\n",
    "statelist = [\"AZ\", \"CA\", \"CO\", \"ID\", \"MT\", \"NM\", \"NV\", \"OR\", \"UT\", \"WY\"]"
   ]
  },
  {
   "cell_type": "code",
   "execution_count": 885,
   "metadata": {
    "collapsed": false
   },
   "outputs": [],
   "source": [
    "# Create a new empty DataFrame for each table\n",
    "allotments = pd.DataFrame()\n",
    "operators = pd.DataFrame()\n",
    "permits = pd.DataFrame()\n",
    "health = pd.DataFrame()\n",
    "\n",
    "#create a variable storing the path for each set of raw files\n",
    "allotments_path = 'data/rangeland-administration-system/allotment-info/'\n",
    "operators_path = 'data/rangeland-administration-system/operator-info/'\n",
    "permits_path = 'data/rangeland-administration-system/permit-schedule-info/'\n",
    "# health_path = 'data/rangeland-health/'\n",
    "\n",
    "# Import those files for allotments ... (probably should be a function)\n",
    "for s in statelist:\n",
    "    csv_file = '{}{}.csv'.format(allotments_path, s)\n",
    "    new_data = pd.read_csv(csv_file, dtype={'Allotment Number': 'object', 'Auth No': 'object'})\n",
    "    allotments = allotments.append(new_data)\n",
    "\n",
    "# ... and for operators\n",
    "for s in statelist:\n",
    "    csv_file = '{}{}.csv'.format(operators_path, s)\n",
    "    new_data = pd.read_csv(csv_file, dtype={'Allotment Number': 'object', 'Auth No': 'object'})\n",
    "    operators = operators.append(new_data)\n",
    "\n",
    "# ... and for permits\n",
    "for s in statelist:\n",
    "    csv_file = '{}{}.csv'.format(permits_path, s)\n",
    "    new_data = pd.read_csv(csv_file, dtype={'Allotment Number': 'object', 'Auth No': 'object'})\n",
    "    permits = permits.append(new_data)\n",
    "\n",
    "# ... and for land health standards \n",
    "# for s in statelist:\n",
    "#     csv_file = '{}{}.csv'.format(health_path, s)\n",
    "#     new_data = pd.read_csv(csv_file, dtype={'Allotment Number': 'object', 'Auth No': 'object'})\n",
    "#     health = health.append(new_data)"
   ]
  },
  {
   "cell_type": "markdown",
   "metadata": {
    "collapsed": false
   },
   "source": [
    "<a name=\"django\">Processing for Django</a>\n",
    "==="
   ]
  },
  {
   "cell_type": "markdown",
   "metadata": {
    "collapsed": false
   },
   "source": [
    "###  Field Offices table\n",
    "---\n",
    "\n",
    "The following lines of code creates a table of field offices by dropping duplicates and adding a unique ID as an integer. This ID can be referenced by other tables in Django.\n"
   ]
  },
  {
   "cell_type": "code",
   "execution_count": 886,
   "metadata": {
    "collapsed": false
   },
   "outputs": [],
   "source": [
    "# create a new df with field office info\n",
    "field_offices = allotments[[\"Admin Office\", \"Field Office\"]]\n",
    "\n",
    "# select only uniques from the DB\n",
    "field_offices.drop_duplicates('Admin Office', inplace = True)\n",
    "\n",
    "# save and re-read as a CSV for a janky but fast way of generating unique IDs starting at 1\n",
    "field_offices.to_csv('data/processed/field_offices.csv')\n",
    "field_offices = pd.read_csv('data/processed/field_offices.csv')\n",
    "\n",
    "# Create a new column for field office state.\n",
    "field_offices[\"State\"] = field_offices[\"Admin Office\"]\n",
    "field_offices[\"State\"] = field_offices[\"State\"].str[2:4]\n",
    "\n",
    "# assign a numeric id based on string\n",
    "field_offices.loc[field_offices['State'] == 'AZ', 'StateCode'] = 1\n",
    "field_offices.loc[field_offices['State'] == 'CA', 'StateCode'] = 2\n",
    "field_offices.loc[field_offices['State'] == 'CO', 'StateCode'] = 3\n",
    "field_offices.loc[field_offices['State'] == 'ID', 'StateCode'] = 4\n",
    "field_offices.loc[field_offices['State'] == 'MT', 'StateCode'] = 5\n",
    "field_offices.loc[field_offices['State'] == 'NM', 'StateCode'] = 6\n",
    "field_offices.loc[field_offices['State'] == 'NV', 'StateCode'] = 7\n",
    "field_offices.loc[field_offices['State'] == 'OR', 'StateCode'] = 8\n",
    "field_offices.loc[field_offices['State'] == 'UT', 'StateCode'] = 9\n",
    "field_offices.loc[field_offices['State'] == 'WY', 'StateCode'] = 10\n",
    "\n",
    "# make sure the field type is converted to int\n",
    "field_offices['StateCode'] = field_offices['StateCode'].astype('int64')\n",
    "\n",
    "# create a unique id starting at 1\n",
    "field_offices['id'] = field_offices.index + 1\n",
    "\n",
    "# rename columns to remove spaces, capital letters\n",
    "field_offices=field_offices.rename(columns = {'Admin Office':'office_code', 'Field Office': 'office_name', 'StateCode': 'state_id'})\n",
    "\n",
    "# s\n",
    "field_offices = field_offices[['id', 'office_code', 'office_name', 'state_id']]\n",
    "field_offices.to_csv(\"data/processed/field_offices.csv\")"
   ]
  },
  {
   "cell_type": "markdown",
   "metadata": {},
   "source": [
    "---\n",
    "###Operators table\n",
    "The following lines of code create a table of operators (ranches) with a unique ID that can be referenced by other tables, such as the permits table. Create a table of operators linked to field offices, and with a unique ID that can be referencecd by other tables"
   ]
  },
  {
   "cell_type": "code",
   "execution_count": 887,
   "metadata": {
    "collapsed": false
   },
   "outputs": [],
   "source": [
    "#rename operators columsn to remove spaces and capital\n",
    "operators=operators.rename(columns = {'Off CD': 'office_code', 'Auth No':'auth_no', 'Operator Display Name': 'operator_display_name', 'Address1': 'address1', 'Address2': 'address2', 'City': 'city', 'Phone Number': 'phone_number', 'Release Text': 'release_text', 'Zipcode1 5': 'zipcode15', 'Zipcode6 9': 'zipcode69'})\n",
    "\n",
    "#assign an id based on the index, but skip the 0\n",
    "operators[\"id\"] = operators.index + 1\n",
    "\n",
    "#create a new dataframe that joins operators with field offices\n",
    "new_ops = pd.merge(operators, field_offices, on='office_code', how='inner')\n",
    "\n",
    "#that worked great now overwrite operators with that same data\n",
    "operators = new_ops\n",
    "\n",
    "#rename the two different id fields so we've got what we want.\n",
    "operators['id'] = operators['id_x'].astype(int)\n",
    "operators['field_office_id'] = operators['id_y'].astype(int)\n",
    "\n",
    "# shed the data we don't want by reassigning the variable name 'operators' new a new dataframe with only these columns selected\n",
    "operators = operators[['id', 'auth_no', 'operator_display_name', 'address1', 'address2', 'city', 'zipcode15', 'zipcode69', 'ST2', 'phone_number', 'release_text', 'field_office_id']]\n",
    "\n",
    "# concatenate the ranch name and the city to create a unique identifier, just in case\n",
    "# operator names appear to have no duplicates\n",
    "operators.loc[:,'unique'] = operators['operator_display_name'] + operators['city']\n",
    "\n",
    "# check the first 10 rows\n",
    "operators['unique'].head()\n",
    "\n",
    "# create a new datafraem and drop any duplicates, checking for duplicates using our new unique field\n",
    "## operators_unique = operators\n",
    "## operators_unique.drop_duplicates('unique', inplace=True)\n",
    "\n",
    "#create a new dataframe and fill it with operators data\n",
    "unique_ops = pd.DataFrame()\n",
    "unique_ops = unique_ops.append(operators)\n",
    "\n",
    "#drop the duplciates out of it \n",
    "unique_ops.drop_duplicates('unique', inplace=True)\n",
    "\n",
    "#assign a numeric 'id' field\n",
    "unique_ops['operator_id'] = unique_ops.index + 1\n",
    "\n",
    "#and write the necessary fields into a csv\n",
    "unique_ops[['operator_display_name', 'address1', 'ST2', 'address2', 'city', 'zipcode15', 'zipcode69', 'phone_number', 'release_text', 'operator_id']].to_csv('data/processed/operators.csv')\n",
    "\n",
    "# check the fields\n",
    "## unique_ops.info()"
   ]
  },
  {
   "cell_type": "markdown",
   "metadata": {},
   "source": [
    "---\n",
    "### Authorizations table\n",
    "Create a table of authorization numbers that can link to allotments, permits and operators"
   ]
  },
  {
   "cell_type": "code",
   "execution_count": 888,
   "metadata": {
    "collapsed": true
   },
   "outputs": [],
   "source": [
    "# select three fields needed out of operators\n",
    "authorizations = operators[['operator_display_name', 'address1', 'auth_no']]\n",
    "\n",
    "# create a unique id using operator name and address line (just to be safe, there appear to be no duplicate names)\n",
    "authorizations.loc[:,'unique'] = authorizations['operator_display_name'] + authorizations['address1']\n",
    "\n",
    "# create an id for each authorization\n",
    "authorizations.loc[:,'id'] = authorizations.index + 1\n",
    "\n",
    "#check the first fiew rows of the file\n",
    "#authorizations.head()\n",
    "\n",
    "# write two columns into a csv that we can import to Django app\n",
    "authorizations[['auth_no', 'id']].to_csv('data/processed/authorizations.csv')"
   ]
  },
  {
   "cell_type": "markdown",
   "metadata": {},
   "source": [
    "---\n",
    "\n",
    "### Authorizations_Operators relationship table\n",
    "Create a table of relationshiops between authorization numbers and operators, for our django many-to-many field"
   ]
  },
  {
   "cell_type": "code",
   "execution_count": 889,
   "metadata": {
    "collapsed": false
   },
   "outputs": [],
   "source": [
    "#create a dataframe with just two fields out of the unique operators list\n",
    "unique_ops_short = unique_ops[['unique', 'operator_id']]\n",
    "\n",
    "# merge it with the full operators list so that each operator entry (including duplicates) has an ID\n",
    "operators_w_id = pd.merge(operators, unique_ops_short, on='unique', how='left')\n",
    "\n",
    "# check the new dataframe \n",
    "# operators_w_id.info()\n",
    "# authorizations.info()\n",
    "\n",
    "# now merge that new dataframe with authorizations \n",
    "auths = authorizations[['auth_no', 'id']]\n",
    "auths = auths.rename(columns={'id': 'authorization_id'})\n",
    "operators_w_id_w_auth = pd.merge(operators_w_id, auths, on = 'auth_no')\n",
    "\n",
    "# create an id for each authorization/operator pairing \n",
    "operators_w_id_w_auth['id'] = operators_w_id_w_auth.index + 1\n",
    "\n",
    "# export the dataframe to a csv\n",
    "operators_w_id_w_auth[['id', 'operator_id', 'authorization_id']].to_csv('data/processed/operator_auth_no.csv')"
   ]
  },
  {
   "cell_type": "markdown",
   "metadata": {},
   "source": [
    "--------"
   ]
  },
  {
   "cell_type": "markdown",
   "metadata": {},
   "source": [
    "### Allotments table\n",
    "Create a table of operators linked to field offices and operators, along witha unique ID that can be referencecd by other tables such as \"health\" and \"boundary\""
   ]
  },
  {
   "cell_type": "code",
   "execution_count": 890,
   "metadata": {
    "collapsed": true
   },
   "outputs": [],
   "source": [
    "# save a copy of all the states to a new csv just because\n",
    "allotments.to_csv('data/rangeland-administration-system/allotment-info/all_states.csv')\n",
    "\n",
    "# create a new column with unique id for allotments based on state and allotment number (allotment numbers are unique within states according to BLM documentation)\n",
    "allotments['allotment_unique'] = allotments['Adm State'] + allotments['Allotment Number']\n",
    "\n",
    "# check the first few lines to make sure we're all good\n",
    "## allotments[\"allotment_unique\"].head()\n",
    "## allotments.info()\n",
    "\n",
    "# create a new dataframe and drop the duplicate allotment numbers out of it\n",
    "allotments_trimmed = allotments[['allotment_unique', 'Admin Office', 'Auth No', 'Allotment Name', 'Allotment Number', 'Available For Grazing', 'Grazing Decision', 'Public Acres', 'Amp Text', 'Amp Implement Date', 'Management Stat Text']]\n",
    "\n",
    "# remove duplicates from allotment table, keeping only unique allotment numbers. This is done because allotment table has duplicates for multiple permit holders on each allotment, but the information we need out of the allotments table is unique to each allotment, not each permit we will instead append that information to each permit\n",
    "allotments_trimmed.drop_duplicates('allotment_unique', inplace = True)\n",
    "\n",
    "# rename columns to get rid of messy spaces and capitals\n",
    "allotments_trimmed = allotments_trimmed.rename(columns={'Admin Office': 'office_code', 'Auth No': 'auth_no', 'Allotment Number': 'allotment_number', 'Allotment Name': 'allotment_name', 'Available For Grazing': 'available_for_grazing', 'Grazing Decision': 'grazing_decision', 'Public Acres': 'public_acres', 'Amp Text': 'amp_text', 'Amp Implement Date': 'amp_implement_date', 'Management Stat Text': 'management_stat_text'})\n",
    "\n",
    "# check it out to make sure we're still good ... \n",
    "## allotments_trimmed.info()\n",
    "\n",
    "# join it with field office\n",
    "allotments_with_field_office = pd.merge(allotments_trimmed, field_offices, on='office_code', how='inner')\n",
    "\n",
    "# strip the comma out of \"public acres\" and convert it to a float field so we can calc on it. Then describe() just to make sure it worked\n",
    "allotments_with_field_office['public_acres'] = allotments_with_field_office['public_acres'].str.replace(',', '')\n",
    "allotments_with_field_office['public_acres'] = allotments_with_field_office['public_acres'].astype(float)\n",
    "\n",
    "# describe the field \n",
    "## allotments_with_field_office['public_acres'].describe()\n",
    "\n",
    "# rename id field so it doesn't get confusing during later merges\n",
    "allotments_with_field_office = allotments_with_field_office.rename(columns={'id': 'field_office_id'})\n",
    "\n",
    "#reassign the variable name to a data frame selecting only the fields we want for our table\n",
    "allotments_with_field_office = allotments_with_field_office[['allotment_unique', 'allotment_number', 'allotment_name', 'available_for_grazing', 'grazing_decision', 'public_acres', 'amp_text', 'management_stat_text', 'field_office_id', 'amp_implement_date']]\n",
    "\n",
    "#convert 'amp_implement_date' into a Django-friendly format, then check it with the first five rows jsut to make sure\n",
    "allotments_with_field_office['amp_implement_date'] = pd.to_datetime(allotments_with_field_office['amp_implement_date'])\n",
    "\n",
    "# fill the nulls with a common date that none of the actual dates will match and that we can filter out later\n",
    "# this is to help avoid an error on postgres import\n",
    "allotments_with_field_office['amp_implement_date'] = allotments_with_field_office['amp_implement_date'].fillna(1930-01-01) \n",
    "\n",
    "# check the first few rows to make sure the date fill worked\n",
    "## allotments_with_field_office['amp_implement_date'].head()\n",
    "\n",
    "# assign each allotment a unique id\n",
    "allotments_with_field_office['id'] = allotments_with_field_office.index + 1\n",
    "allotments_with_field_office['id'].head()\n",
    "\n",
    "# and then write it out to a csv\n",
    "allotments_with_field_office.to_csv('data/processed/allotments.csv')"
   ]
  },
  {
   "cell_type": "markdown",
   "metadata": {},
   "source": [
    "----"
   ]
  },
  {
   "cell_type": "markdown",
   "metadata": {},
   "source": [
    "### Permits table\n",
    "Create a table of permits linked to operators and allotments and with a unique ID that can be referencecd by other tables"
   ]
  },
  {
   "cell_type": "code",
   "execution_count": 891,
   "metadata": {
    "collapsed": true
   },
   "outputs": [],
   "source": [
    "#permits.head()\n",
    "\n",
    "# rename fields to remove spaces, capital letters\n",
    "permits = permits.rename(columns={'Auth No': 'auth_no', 'Off CD': 'office_code', 'P/L Eff Dt': 'pl_effect_dt', 'P/L exp Dt': 'pl_exp_dt', 'Permit Status': 'permit_status', 'Allotment Number': 'allotment_number', 'Lvsk #': 'livestock_number', 'Lvsk Kind': 'livestock_kind', 'Pd Beg Dt': 'pd_beg_dt', 'Pd End Dt': 'pd_end_dt', 'Type Use': 'type_use', 'PL %': 'pl_percent', 'Aums': 'aums'} )\n",
    "\n",
    "\n",
    "# merge permits with field offices based on the office code\n",
    "# permits_fo is a dataframe of permits that's linked to field offices (fo)\n",
    "permits_fo = pd.merge(permits, field_offices, on='office_code', how='inner')\n",
    "\n",
    "# rename the 'id' field from field office dataframe to reference that table in django\n",
    "permits_fo = permits_fo.rename(columns={'id': 'field_office_id'})\n",
    "\n",
    "#convert date fields to datetime\n",
    "permits_fo['pl_effect_dt'] = pd.to_datetime(permits_fo['pl_effect_dt'])\n",
    "permits_fo['pl_exp_dt'] = pd.to_datetime(permits_fo['pl_exp_dt'])\n",
    "\n",
    "permits_fo['pd_beg_dt'] = pd.to_datetime(permits_fo['pd_beg_dt'])\n",
    "permits_fo['pd_end_dt'] = pd.to_datetime(permits_fo['pd_end_dt'])\n",
    "\n",
    "# look at what we've done\n",
    "## permits_fo.head()\n",
    "\n",
    "#strip the two letter state abbr out of the office code\n",
    "permits_fo['state'] = permits_fo['office_code'].str[2:4]\n",
    "\n",
    "#create the unique allotment id by concatenating state abbr with allotment number\n",
    "permits_fo['allotment_unique'] = permits_fo['state'] + permits_fo['allotment_number']\n",
    "\n",
    "#check to see we got it right \n",
    "permits_fo['allotment_unique'].head()\n",
    "\n",
    "# \n",
    "permits_fo =  permits_fo[['auth_no', 'pl_effect_dt', 'pl_exp_dt', 'permit_status', 'allotment_number', 'livestock_number', 'livestock_kind', 'pd_beg_dt', 'pd_end_dt', 'type_use', 'pl_percent', 'aums', 'field_office_id', 'allotment_unique']]\n",
    "\n",
    "permits_fo.head()\n",
    "\n",
    "# merge permits with allotments\n",
    "# permits_fo_allot is a dataframe of permits that's been linked to field offices and allotments\n",
    "permits_fo_allot = pd.merge(permits_fo, allotments_with_field_office, on='allotment_unique', how='inner')\n",
    "\n",
    "# rename some key columns\n",
    "permits_fo_allot = permits_fo_allot.rename(columns={'id': 'allotment_id', 'field_office_id_x': 'field_office_id', 'auth_no_x': 'auth_no'})\n",
    "\n",
    "# select only the columns we need\n",
    "permits_fo_allot = permits_fo_allot[['auth_no', 'pl_effect_dt', 'pl_exp_dt', 'permit_status', 'livestock_number', 'livestock_kind', 'pd_beg_dt', 'pd_end_dt', 'type_use', 'pl_percent', 'aums', 'field_office_id', 'allotment_unique', 'allotment_id']]\n",
    "\n",
    "# merge permits with authorizations\n",
    "# permits_fo_allot_auths is a dataframe of permits that's been linked to field offices and allotments and now authorization numbers\n",
    "permits_fo_allot_auths = pd.merge(permits_fo_allot, auths, on='auth_no', how='inner')\n",
    "\n",
    "# rename id fields to reference the proper django tables\n",
    "permits_fo_allot_auths = permits_fo_allot_auths.rename(columns={'authorization_id': 'auth_no_id', 'field_office_id_x': 'field_office_id'})\n",
    "\n",
    "# reduce the dataframe to only the fields we want\n",
    "permits_fo_allot_auths = permits_fo_allot_auths[['auth_no', 'pl_effect_dt', 'pl_exp_dt', 'permit_status', 'livestock_number', 'livestock_kind', 'pd_beg_dt', 'pd_end_dt', 'type_use', 'pl_percent', 'aums', 'field_office_id', 'allotment_unique', 'allotment_id', 'auth_no_id']]\n",
    "\n",
    "# create a unique id starting at 1 for the permits\n",
    "permits_fo_allot_auths['id'] = permits_fo_allot_auths.index + 1\n",
    "\n",
    "# look at what we've done\n",
    "## permits_fo_allot_auths.head()\n",
    "\n",
    "# fill the null dates with an arbitrary date that can be easily filtered out later, for ease in importing\n",
    "permits_fo_allot_auths['pl_effect_dt'] = permits_fo_allot_auths['pl_effect_dt'].fillna(1930-01-01)\n",
    "permits_fo_allot_auths['pl_exp_dt'] = permits_fo_allot_auths['pl_exp_dt'].fillna(1930-01-01)\n",
    "permits_fo_allot_auths['pd_beg_dt'] = permits_fo_allot_auths['pd_beg_dt'].fillna(1930-01-01)\n",
    "permits_fo_allot_auths['pd_end_dt'] = permits_fo_allot_auths['pd_end_dt'].fillna(1930-01-01)\n",
    "\n",
    "# write it to a csv\n",
    "permits_fo_allot_auths.to_csv('data/processed/permits.csv')"
   ]
  },
  {
   "cell_type": "markdown",
   "metadata": {},
   "source": [
    "### Allotments and authorizations many-to-many table\n",
    "An outer join of allotment ids, numbers and operator ids, numbers for the Many to Many relationship between allotments and operators"
   ]
  },
  {
   "cell_type": "code",
   "execution_count": 892,
   "metadata": {
    "collapsed": false
   },
   "outputs": [],
   "source": [
    "allotments = allotments.rename(columns={'Auth No': 'auth_no'})\n",
    "allotments_operators = pd.merge(auths, allotments, on=\"auth_no\", how='left')\n",
    "#allotments_operators = allotments_operators.rename(columns={'id': 'operator_id'})\n",
    "allotments_operators = pd.merge(allotments_operators, allotments_with_field_office, on='allotment_unique')\n",
    "allotments_operators = allotments_operators.rename(columns={'id': 'allotment_id'})\n",
    "\n",
    "allotments_operators = allotments_operators[['allotment_id', 'authorization_id']]\n",
    "allotments_operators['id'] = allotments_operators.index + 1\n",
    "allotments_operators.to_csv('data/processed/allotments_auth_no.csv')"
   ]
  },
  {
   "cell_type": "markdown",
   "metadata": {
    "collapsed": true
   },
   "source": [
    "### Health table"
   ]
  },
  {
   "cell_type": "markdown",
   "metadata": {},
   "source": [
    "The health table is in shapefile format provided by Peter Lattin, landscape ecologist and former BLM contractor, who cleaned and analyzed the data for Public Employees for Environmental Responsibility. \n",
    "\n",
    "See [rangeland.grazing.load](https://github.com/tonyschick/rangeland/blob/master/grazing/load.py) for how this shapefile is handled.\n",
    "\n",
    "----"
   ]
  },
  {
   "cell_type": "markdown",
   "metadata": {
    "collapsed": true
   },
   "source": [
    "<a name=\"analysis\">Analysis for story</a>\n",
    "==="
   ]
  },
  {
   "cell_type": "markdown",
   "metadata": {},
   "source": [
    "## Allotments without allotment management plans\n",
    "Finding the total number / percent of allotments lacking an allotment management plan (AMP), lacking an AMP on allotments needing improvement, and the total number / percent of allotments with an AMP that is more than 10, 20 or 30 years old.\n",
    "\n",
    "The allotments table contains a list of grazing allotments managed by the BLM. Allotment numbers are unique within states, thus combining the two-letter state abbrevation and the allotment number creates a commonly used unique identifier for individual allotments. More on the allotments table [here](http://www.blm.gov/ras/reports/RAS_Allotment_Information_Report.pdf). \n",
    "\n",
    "The allotment table contains duplicate entries, because each allotment has multiple authorized operators. Information such as management category (improve, maintain, custodial) or the presence of an allotment management plan are uniform across all the entries for an allotment."
   ]
  },
  {
   "cell_type": "markdown",
   "metadata": {},
   "source": [
    "#### For all BLM:"
   ]
  },
  {
   "cell_type": "code",
   "execution_count": 816,
   "metadata": {
    "collapsed": false
   },
   "outputs": [
    {
     "name": "stdout",
     "output_type": "stream",
     "text": [
      "About 77.0 percent of allotments, 16445 in total, do not have an allotment management plan listed. This represents roughly 45.0 percent of the total number of acres. \n",
      "\n",
      "Table grouped by AMP status. \"None\" means blank entry in BLM data.\n"
     ]
    },
    {
     "data": {
      "text/html": [
       "<div>\n",
       "<table border=\"1\" class=\"dataframe\">\n",
       "  <thead>\n",
       "    <tr style=\"text-align: right;\">\n",
       "      <th></th>\n",
       "      <th>number_of_allotments</th>\n",
       "      <th>public_acres</th>\n",
       "    </tr>\n",
       "    <tr>\n",
       "      <th>amp_text</th>\n",
       "      <th></th>\n",
       "      <th></th>\n",
       "    </tr>\n",
       "  </thead>\n",
       "  <tbody>\n",
       "    <tr>\n",
       "      <th>AMP IMPLEMENTED</th>\n",
       "      <td>4516</td>\n",
       "      <td>80316572</td>\n",
       "    </tr>\n",
       "    <tr>\n",
       "      <th>AMP PROPOSED</th>\n",
       "      <td>79</td>\n",
       "      <td>1018533</td>\n",
       "    </tr>\n",
       "    <tr>\n",
       "      <th>AMP WRITTEN</th>\n",
       "      <td>46</td>\n",
       "      <td>414191</td>\n",
       "    </tr>\n",
       "    <tr>\n",
       "      <th>AMP/CMP IMPLEMENTED</th>\n",
       "      <td>39</td>\n",
       "      <td>1224730</td>\n",
       "    </tr>\n",
       "    <tr>\n",
       "      <th>CMP IMPLEMENTED</th>\n",
       "      <td>140</td>\n",
       "      <td>1915468</td>\n",
       "    </tr>\n",
       "    <tr>\n",
       "      <th>None</th>\n",
       "      <td>16445</td>\n",
       "      <td>69616261</td>\n",
       "    </tr>\n",
       "  </tbody>\n",
       "</table>\n",
       "</div>"
      ],
      "text/plain": [
       "                     number_of_allotments  public_acres\n",
       "amp_text                                               \n",
       "AMP IMPLEMENTED                      4516      80316572\n",
       "AMP PROPOSED                           79       1018533\n",
       "AMP WRITTEN                            46        414191\n",
       "AMP/CMP IMPLEMENTED                    39       1224730\n",
       "CMP IMPLEMENTED                       140       1915468\n",
       "None                                16445      69616261"
      ]
     },
     "execution_count": 816,
     "metadata": {},
     "output_type": "execute_result"
    }
   ],
   "source": [
    "#create a new dataframe holding allotment data specifically for analysis\n",
    "allots = pd.DataFrame()\n",
    "allots = allots.append(allotments)\n",
    "\n",
    "# remove duplicates from the dataframe (for reasons stated above)\n",
    "allots.drop_duplicates('allotment_unique', inplace = True)\n",
    "\n",
    "# rename colums do get rid of spaces\n",
    "allots = allots.rename(columns={'Adm State': 'state', 'Admin Office': 'office_code', 'Field Office': 'field_office', 'Auth No': 'auth_no', 'Allotment Number': 'allotment_number', 'Allotment Name': 'allotment_name', 'Available For Grazing': 'available_for_grazing', 'Grazing Decision': 'grazing_decision', 'Public Acres': 'public_acres', 'Amp Text': 'amp_text', 'Amp Implement Date': 'amp_implement_date', 'Management Stat Text': 'management_stat_text'})\n",
    "\n",
    "# check the work\n",
    "allots.head()\n",
    "\n",
    "# fill null values with a string so we can use it in a groupby \n",
    "allots['amp_text'] = allots['amp_text'].fillna('None')\n",
    "\n",
    "\n",
    "#allots.info()\n",
    "#allots.groupby('amp_text').count().loc[:,'id']\n",
    "\n",
    "# remove comma from public_acres and convert to a number field\n",
    "allots['public_acres'] = allots['public_acres'].str.replace(',', '')\n",
    "allots['public_acres'] = allots['public_acres'].astype(float)\n",
    "\n",
    "allots.loc[:,'id'] = allots.index + 1\n",
    "\n",
    "# send it to a new dataframe\n",
    "by_amp = pd.DataFrame({\n",
    "        \"public_acres\": allots.groupby('amp_text').sum().loc[:,'public_acres'], \n",
    "        \"number_of_allotments\": allots.groupby('amp_text').count().loc[:,'id']\n",
    "    })\n",
    "\n",
    "# calculate the percent of acres without an AMP by summing the number of public acres without AMP and dividing by sum of all acres\n",
    "acres_without_amps = by_amp['public_acres'][5:6].sum() / by_amp['public_acres'].sum()\n",
    "\n",
    "# calculate the percent of allotments without AMP by summing the previous count of allotments without AMP and dividing by sum of all allotment count\n",
    "allotments_without_amps =  by_amp['number_of_allotments'][5:6].sum() / by_amp['number_of_allotments'].sum()\n",
    "\n",
    "print \"About {} percent of allotments, {} in total, do not have an allotment management plan listed. This represents roughly {} percent of the total number of acres. \\n\".format(round(allotments_without_amps * 100), by_amp['number_of_allotments'][5:6].sum(), round(acres_without_amps * 100))\n",
    "\n",
    "print 'Table grouped by AMP status. \"None\" means blank entry in BLM data.'\n",
    "by_amp"
   ]
  },
  {
   "cell_type": "markdown",
   "metadata": {},
   "source": [
    "#### For OR/WA/ID:"
   ]
  },
  {
   "cell_type": "code",
   "execution_count": 862,
   "metadata": {
    "collapsed": false
   },
   "outputs": [
    {
     "name": "stdout",
     "output_type": "stream",
     "text": [
      "About 81.0 percent of allotments in Oregon and Idaho field offices, 3407 in total, do not have an allotment management plan listed. This represents roughly 47.0 percent of the total number of acres. \n",
      "\n",
      "OR/WA/ID Table grouped by AMP status. \"None\" means blank entry in BLM data.\n"
     ]
    },
    {
     "data": {
      "text/html": [
       "<div>\n",
       "<table border=\"1\" class=\"dataframe\">\n",
       "  <thead>\n",
       "    <tr style=\"text-align: right;\">\n",
       "      <th></th>\n",
       "      <th>orwaid_number_of_allotments</th>\n",
       "      <th>orwaid_public_acres</th>\n",
       "    </tr>\n",
       "    <tr>\n",
       "      <th>amp_text</th>\n",
       "      <th></th>\n",
       "      <th></th>\n",
       "    </tr>\n",
       "  </thead>\n",
       "  <tbody>\n",
       "    <tr>\n",
       "      <th>AMP IMPLEMENTED</th>\n",
       "      <td>724</td>\n",
       "      <td>12584771</td>\n",
       "    </tr>\n",
       "    <tr>\n",
       "      <th>AMP PROPOSED</th>\n",
       "      <td>8</td>\n",
       "      <td>143521</td>\n",
       "    </tr>\n",
       "    <tr>\n",
       "      <th>AMP WRITTEN</th>\n",
       "      <td>9</td>\n",
       "      <td>35608</td>\n",
       "    </tr>\n",
       "    <tr>\n",
       "      <th>AMP/CMP IMPLEMENTED</th>\n",
       "      <td>13</td>\n",
       "      <td>345114</td>\n",
       "    </tr>\n",
       "    <tr>\n",
       "      <th>CMP IMPLEMENTED</th>\n",
       "      <td>20</td>\n",
       "      <td>138940</td>\n",
       "    </tr>\n",
       "    <tr>\n",
       "      <th>None</th>\n",
       "      <td>3407</td>\n",
       "      <td>11936815</td>\n",
       "    </tr>\n",
       "  </tbody>\n",
       "</table>\n",
       "</div>"
      ],
      "text/plain": [
       "                     orwaid_number_of_allotments  orwaid_public_acres\n",
       "amp_text                                                             \n",
       "AMP IMPLEMENTED                              724             12584771\n",
       "AMP PROPOSED                                   8               143521\n",
       "AMP WRITTEN                                    9                35608\n",
       "AMP/CMP IMPLEMENTED                           13               345114\n",
       "CMP IMPLEMENTED                               20               138940\n",
       "None                                        3407             11936815"
      ]
     },
     "execution_count": 862,
     "metadata": {},
     "output_type": "execute_result"
    }
   ],
   "source": [
    "orwaid = ['OR', 'ID'] # there's no WA field office\n",
    "\n",
    "orwaid_allots = allots.loc[allots['state'].isin(orwaid)] \n",
    "#orwaid_allots = allots[allots['state'] == 'OR' & allots['state'] == 'ID']\n",
    "\n",
    "# send it to a new dataframe\n",
    "orwaid_by_amp = pd.DataFrame({\n",
    "        \"orwaid_public_acres\": orwaid_allots.groupby('amp_text').sum().loc[:,'public_acres'], \n",
    "        \"orwaid_number_of_allotments\": orwaid_allots.groupby('amp_text').count().loc[:,'id']\n",
    "    })\n",
    "\n",
    "# calculate the percent of acres without an AMP by summing the number of public acres without AMP and dividing by sum of all acres\n",
    "orwaid_acres_without_amps = orwaid_by_amp['orwaid_public_acres'][5:6].sum() / orwaid_by_amp['orwaid_public_acres'].sum()\n",
    "\n",
    "# calculate the percent of allotments without AMP by summing the previous count of allotments without AMP and dividing by sum of all allotment count\n",
    "orwaid_allotments_without_amps =  orwaid_by_amp['orwaid_number_of_allotments'][5:6].sum() / orwaid_by_amp['orwaid_number_of_allotments'].sum()\n",
    "\n",
    "print \"About {} percent of allotments in Oregon and Idaho field offices, {} in total, do not have an allotment management plan listed. This represents roughly {} percent of the total number of acres. \\n\".format(round(orwaid_allotments_without_amps * 100), orwaid_by_amp['orwaid_number_of_allotments'][5:6].sum(), round(orwaid_acres_without_amps * 100))\n",
    "\n",
    "print 'OR/WA/ID Table grouped by AMP status. \"None\" means blank entry in BLM data.'\n",
    "orwaid_by_amp"
   ]
  },
  {
   "cell_type": "markdown",
   "metadata": {},
   "source": [
    "---\n",
    "\n",
    "## Allotments in the \"improve\" category without an allotment management plan \n",
    "\n",
    "#### For all BLM: "
   ]
  },
  {
   "cell_type": "code",
   "execution_count": 867,
   "metadata": {
    "collapsed": false
   },
   "outputs": [
    {
     "name": "stdout",
     "output_type": "stream",
     "text": [
      "Allotments in \"IMPROVE CATEOGRY\" Grouped by AMP status. \"None\" means blank entry in BLM data.\n"
     ]
    },
    {
     "data": {
      "text/html": [
       "<div>\n",
       "<table border=\"1\" class=\"dataframe\">\n",
       "  <thead>\n",
       "    <tr style=\"text-align: right;\">\n",
       "      <th></th>\n",
       "      <th>number_of_allotments</th>\n",
       "      <th>public_acres</th>\n",
       "    </tr>\n",
       "    <tr>\n",
       "      <th>amp_text</th>\n",
       "      <th></th>\n",
       "      <th></th>\n",
       "    </tr>\n",
       "  </thead>\n",
       "  <tbody>\n",
       "    <tr>\n",
       "      <th>AMP IMPLEMENTED</th>\n",
       "      <td>2097</td>\n",
       "      <td>53641609</td>\n",
       "    </tr>\n",
       "    <tr>\n",
       "      <th>AMP PROPOSED</th>\n",
       "      <td>42</td>\n",
       "      <td>837516</td>\n",
       "    </tr>\n",
       "    <tr>\n",
       "      <th>AMP WRITTEN</th>\n",
       "      <td>25</td>\n",
       "      <td>321297</td>\n",
       "    </tr>\n",
       "    <tr>\n",
       "      <th>AMP/CMP IMPLEMENTED</th>\n",
       "      <td>27</td>\n",
       "      <td>1160809</td>\n",
       "    </tr>\n",
       "    <tr>\n",
       "      <th>CMP IMPLEMENTED</th>\n",
       "      <td>65</td>\n",
       "      <td>1587392</td>\n",
       "    </tr>\n",
       "    <tr>\n",
       "      <th>None</th>\n",
       "      <td>2883</td>\n",
       "      <td>35035352</td>\n",
       "    </tr>\n",
       "  </tbody>\n",
       "</table>\n",
       "</div>"
      ],
      "text/plain": [
       "                     number_of_allotments  public_acres\n",
       "amp_text                                               \n",
       "AMP IMPLEMENTED                      2097      53641609\n",
       "AMP PROPOSED                           42        837516\n",
       "AMP WRITTEN                            25        321297\n",
       "AMP/CMP IMPLEMENTED                    27       1160809\n",
       "CMP IMPLEMENTED                        65       1587392\n",
       "None                                 2883      35035352"
      ]
     },
     "execution_count": 867,
     "metadata": {},
     "output_type": "execute_result"
    }
   ],
   "source": [
    "# create a new dataframe out of our list of unique allotments, filtering for only those in the \"improve\" category\n",
    "allotments_needing_improvement = allots[allots['management_stat_text'] == 'IMPROVE CATEGORY']\n",
    "\n",
    "# using the list of allotments needing improvement,\n",
    "# create a new dataframe with the count of allotments \n",
    "# and sum of public acres, grouped by AMP status\n",
    "improvement_by_amp = pd.DataFrame({\n",
    "        \"public_acres\": allotments_needing_improvement.groupby('amp_text').sum().loc[:,'public_acres'], \n",
    "        \"number_of_allotments\": allotments_needing_improvement.groupby('amp_text').count().loc[:,'id']\n",
    "    })\n",
    "\n",
    "print 'Allotments in \"IMPROVE CATEOGRY\" Grouped by AMP status. \"None\" means blank entry in BLM data.'\n",
    "improvement_by_amp"
   ]
  },
  {
   "cell_type": "markdown",
   "metadata": {},
   "source": [
    "#### For OR/WA/ID:"
   ]
  },
  {
   "cell_type": "code",
   "execution_count": 865,
   "metadata": {
    "collapsed": false
   },
   "outputs": [
    {
     "name": "stdout",
     "output_type": "stream",
     "text": [
      "Allotments in \"IMPROVE CATEOGRY\" Grouped by AMP status. \"None\" means blank entry in BLM data.\n"
     ]
    },
    {
     "data": {
      "text/html": [
       "<div>\n",
       "<table border=\"1\" class=\"dataframe\">\n",
       "  <thead>\n",
       "    <tr style=\"text-align: right;\">\n",
       "      <th></th>\n",
       "      <th>orwaid_number_of_allotments</th>\n",
       "      <th>orwaid_public_acres</th>\n",
       "    </tr>\n",
       "    <tr>\n",
       "      <th>amp_text</th>\n",
       "      <th></th>\n",
       "      <th></th>\n",
       "    </tr>\n",
       "  </thead>\n",
       "  <tbody>\n",
       "    <tr>\n",
       "      <th>AMP IMPLEMENTED</th>\n",
       "      <td>395</td>\n",
       "      <td>8683268</td>\n",
       "    </tr>\n",
       "    <tr>\n",
       "      <th>AMP PROPOSED</th>\n",
       "      <td>5</td>\n",
       "      <td>130787</td>\n",
       "    </tr>\n",
       "    <tr>\n",
       "      <th>AMP WRITTEN</th>\n",
       "      <td>3</td>\n",
       "      <td>26873</td>\n",
       "    </tr>\n",
       "    <tr>\n",
       "      <th>AMP/CMP IMPLEMENTED</th>\n",
       "      <td>8</td>\n",
       "      <td>310608</td>\n",
       "    </tr>\n",
       "    <tr>\n",
       "      <th>CMP IMPLEMENTED</th>\n",
       "      <td>5</td>\n",
       "      <td>68550</td>\n",
       "    </tr>\n",
       "    <tr>\n",
       "      <th>None</th>\n",
       "      <td>833</td>\n",
       "      <td>7420183</td>\n",
       "    </tr>\n",
       "  </tbody>\n",
       "</table>\n",
       "</div>"
      ],
      "text/plain": [
       "                     orwaid_number_of_allotments  orwaid_public_acres\n",
       "amp_text                                                             \n",
       "AMP IMPLEMENTED                              395              8683268\n",
       "AMP PROPOSED                                   5               130787\n",
       "AMP WRITTEN                                    3                26873\n",
       "AMP/CMP IMPLEMENTED                            8               310608\n",
       "CMP IMPLEMENTED                                5                68550\n",
       "None                                         833              7420183"
      ]
     },
     "execution_count": 865,
     "metadata": {},
     "output_type": "execute_result"
    }
   ],
   "source": [
    "orwaid_allotments_needing_improvement = orwaid_allots[orwaid_allots['management_stat_text'] == 'IMPROVE CATEGORY']\n",
    "\n",
    "# using the list of allotments needing improvement,\n",
    "# create a new dataframe with the count of allotments \n",
    "# and sum of public acres, grouped by AMP status\n",
    "orwaid_improvement_by_amp = pd.DataFrame({\n",
    "        \"orwaid_public_acres\": orwaid_allotments_needing_improvement.groupby('amp_text').sum().loc[:,'public_acres'], \n",
    "        \"orwaid_number_of_allotments\": orwaid_allotments_needing_improvement.groupby('amp_text').count().loc[:,'id']\n",
    "    })\n",
    "\n",
    "print 'Allotments in \"IMPROVE CATEOGRY\" Grouped by AMP status. \"None\" means blank entry in BLM data.'\n",
    "orwaid_improvement_by_amp"
   ]
  },
  {
   "cell_type": "markdown",
   "metadata": {},
   "source": [
    "## Number of permits approved under the Appropriations Act/FLPMA clause\n",
    "The number and percent of permits renewed under a provision that defers a full review and environmental assessment and allows a permit to be renewed for 10 years, intended to prevent ranchers from being penalized for the BLM's backlog.\n",
    "\n",
    "#### For all BLM:"
   ]
  },
  {
   "cell_type": "code",
   "execution_count": 788,
   "metadata": {
    "collapsed": false
   },
   "outputs": [
    {
     "name": "stdout",
     "output_type": "stream",
     "text": [
      "Roughly 40.0 percent of existing permits were issued under the Appropriations Act rider that allows permits to be renewed for 10 years as-is without review. \n",
      "\n",
      "Table grouped status of permit. \"Blank\" means empty field in database, indicating normal permitting process. Note the nubmer of permits approved under FLPMA 402(C)(2)/Appropriations Act\n"
     ]
    },
    {
     "data": {
      "text/html": [
       "<div>\n",
       "<table border=\"1\" class=\"dataframe\">\n",
       "  <thead>\n",
       "    <tr style=\"text-align: right;\">\n",
       "      <th></th>\n",
       "      <th>number_of_permits</th>\n",
       "    </tr>\n",
       "    <tr>\n",
       "      <th>permit_status</th>\n",
       "      <th></th>\n",
       "    </tr>\n",
       "  </thead>\n",
       "  <tbody>\n",
       "    <tr>\n",
       "      <th>Blank</th>\n",
       "      <td>20039</td>\n",
       "    </tr>\n",
       "    <tr>\n",
       "      <th>DECISION-STAYED</th>\n",
       "      <td>97</td>\n",
       "    </tr>\n",
       "    <tr>\n",
       "      <th>FLPMA 402(C)(2)/APPROP ACT</th>\n",
       "      <td>13473</td>\n",
       "    </tr>\n",
       "    <tr>\n",
       "      <th>HOLD</th>\n",
       "      <td>328</td>\n",
       "    </tr>\n",
       "  </tbody>\n",
       "</table>\n",
       "</div>"
      ],
      "text/plain": [
       "                            number_of_permits\n",
       "permit_status                                \n",
       "Blank                                   20039\n",
       "DECISION-STAYED                            97\n",
       "FLPMA 402(C)(2)/APPROP ACT              13473\n",
       "HOLD                                      328"
      ]
     },
     "execution_count": 788,
     "metadata": {},
     "output_type": "execute_result"
    }
   ],
   "source": [
    "# create a new df we'll use for the analysis by compying permits dataframe\n",
    "permits_for_analysis = permits\n",
    "\n",
    "# fill the blanks with a string so we can use it as a group by category\n",
    "permits_for_analysis.loc[:,'id'] = permits_for_analysis.index + 1\n",
    "permits_for_analysis['permit_status'] = permits_for_analysis['permit_status'].fillna('Blank')\n",
    "\n",
    "# create a new data frame with just the info we need for our analysis\n",
    "by_permit = pd.DataFrame({\n",
    "        \"number_of_permits\": permits_for_analysis.groupby('permit_status').count().loc[:,'allotment_number']\n",
    "    })\n",
    "\n",
    "# calculate the percentage of permits issued under the provision by dividing the sum of those permits by all permits\n",
    "pct_appropriations_act = by_permit['number_of_permits'][2:3].sum() / by_permit['number_of_permits'].sum()\n",
    "\n",
    "print 'Roughly {} percent of existing permits were issued under the Appropriations Act rider that allows permits to be renewed for 10 years as-is without review. \\n'.format(round(pct_appropriations_act * 100))\n",
    "\n",
    "print 'Table grouped status of permit. \"Blank\" means empty field in database, indicating normal permitting process. Note the nubmer of permits approved under FLPMA 402(C)(2)/Appropriations Act'\n",
    "\n",
    "# and print that dataframe\n",
    "by_permit\n"
   ]
  },
  {
   "cell_type": "markdown",
   "metadata": {},
   "source": [
    "#### For OR/WA/ID:"
   ]
  },
  {
   "cell_type": "code",
   "execution_count": 864,
   "metadata": {
    "collapsed": false
   },
   "outputs": [
    {
     "name": "stdout",
     "output_type": "stream",
     "text": [
      "Roughly 40.0 percent of existing permits were issued under the Appropriations Act rider that allows permits to be renewed for 10 years as-is without review. \n",
      "\n",
      "Table grouped status of permit. \"Blank\" means empty field in database, indicating normal permitting process. Note the nubmer of permits approved under FLPMA 402(C)(2)/Appropriations Act\n"
     ]
    },
    {
     "data": {
      "text/html": [
       "<div>\n",
       "<table border=\"1\" class=\"dataframe\">\n",
       "  <thead>\n",
       "    <tr style=\"text-align: right;\">\n",
       "      <th></th>\n",
       "      <th>orwaid_number_of_permits</th>\n",
       "    </tr>\n",
       "    <tr>\n",
       "      <th>permit_status</th>\n",
       "      <th></th>\n",
       "    </tr>\n",
       "  </thead>\n",
       "  <tbody>\n",
       "    <tr>\n",
       "      <th>Blank</th>\n",
       "      <td>2697</td>\n",
       "    </tr>\n",
       "    <tr>\n",
       "      <th>DECISION-STAYED</th>\n",
       "      <td>94</td>\n",
       "    </tr>\n",
       "    <tr>\n",
       "      <th>FLPMA 402(C)(2)/APPROP ACT</th>\n",
       "      <td>3701</td>\n",
       "    </tr>\n",
       "    <tr>\n",
       "      <th>HOLD</th>\n",
       "      <td>90</td>\n",
       "    </tr>\n",
       "  </tbody>\n",
       "</table>\n",
       "</div>"
      ],
      "text/plain": [
       "                            orwaid_number_of_permits\n",
       "permit_status                                       \n",
       "Blank                                           2697\n",
       "DECISION-STAYED                                   94\n",
       "FLPMA 402(C)(2)/APPROP ACT                      3701\n",
       "HOLD                                              90"
      ]
     },
     "execution_count": 864,
     "metadata": {},
     "output_type": "execute_result"
    }
   ],
   "source": [
    "# give our permits_for_analysis a state field, ripped out of office code\n",
    "permits_for_analysis.loc[:,'state'] = permits_for_analysis['office_code'].str[2:4]\n",
    "\n",
    "# create a new df and only give it data where state contains 'OR' or 'ID'\n",
    "orwaid_permits_for_analysis = permits_for_analysis.loc[permits_for_analysis['state'].isin(orwaid)]\n",
    "\n",
    "# create a new data frame with just the info we need for our analysis\n",
    "orwaid_by_permit = pd.DataFrame({\n",
    "        \"orwaid_number_of_permits\": orwaid_permits_for_analysis.groupby('permit_status').count().loc[:,'allotment_number']\n",
    "    })\n",
    "\n",
    "# calculate the percentage of permits issued under the provision by dividing the sum of those permits by all permits\n",
    "orwaid_pct_appropriations_act = orwaid_by_permit['orwaid_number_of_permits'][2:3].sum() / orwaid_by_permit['orwaid_number_of_permits'].sum()\n",
    "\n",
    "print 'Roughly {} percent of existing permits were issued under the Appropriations Act rider that allows permits to be renewed for 10 years as-is without review. \\n'.format(round(pct_appropriations_act * 100))\n",
    "\n",
    "print 'Table grouped status of permit. \"Blank\" means empty field in database, indicating normal permitting process. Note the nubmer of permits approved under FLPMA 402(C)(2)/Appropriations Act'\n",
    "\n",
    "# and print that dataframe\n",
    "orwaid_by_permit"
   ]
  },
  {
   "cell_type": "markdown",
   "metadata": {},
   "source": [
    "---\n",
    "\n",
    "## Permits renewed without an environmental assessment on allotments that did not meet BLM land health standards because of livestock grazing\n",
    "\n",
    "#### For all BLM:"
   ]
  },
  {
   "cell_type": "code",
   "execution_count": 792,
   "metadata": {
    "collapsed": false
   },
   "outputs": [
    {
     "name": "stdout",
     "output_type": "stream",
     "text": [
      "At least 2288 permits have been renewed for 10 years with no environmental review on allotments where livestock grazing has been identified as a factor for the allotment not meeting rangeland health standards.\n"
     ]
    },
    {
     "data": {
      "text/html": [
       "<div>\n",
       "<table border=\"1\" class=\"dataframe\">\n",
       "  <thead>\n",
       "    <tr style=\"text-align: right;\">\n",
       "      <th></th>\n",
       "      <th>id</th>\n",
       "    </tr>\n",
       "    <tr>\n",
       "      <th>lhs_class</th>\n",
       "      <th></th>\n",
       "    </tr>\n",
       "  </thead>\n",
       "  <tbody>\n",
       "    <tr>\n",
       "      <th>NOT MET - LIVESTOCK</th>\n",
       "      <td>2288</td>\n",
       "    </tr>\n",
       "    <tr>\n",
       "      <th>None listed</th>\n",
       "      <td>11185</td>\n",
       "    </tr>\n",
       "  </tbody>\n",
       "</table>\n",
       "</div>"
      ],
      "text/plain": [
       "                        id\n",
       "lhs_class                 \n",
       "NOT MET - LIVESTOCK   2288\n",
       "None listed          11185"
      ]
     },
     "execution_count": 792,
     "metadata": {},
     "output_type": "execute_result"
    }
   ],
   "source": [
    "# import cleaned rangeland health data from Lattin\n",
    "health_file = 'data/rangeland-health/lhs.xlsx'\n",
    "new_health = pd.read_excel(health_file, 'LHS CLASS - RECONCILED')\n",
    "\n",
    "# rename a couple of key column names \n",
    "new_health=new_health.rename(columns = {'MAP LHS CLASS (collapsed class)':'lhs_class', 'STALLOT': 'allotment_unique'})\n",
    "\n",
    "# select only a couple of fields that we need, the allotment number and the land health designation\n",
    "new_health_short = new_health[['lhs_class', 'allotment_unique']]\n",
    "\n",
    "# create a new dataframe \n",
    "permits_approp_act = permits_for_analysis[permits_for_analysis['permit_status'] == 'FLPMA 402(C)(2)/APPROP ACT']\n",
    "new_health_livestockfactor = new_health_short[new_health_short['lhs_class'] == 'NOT MET - LIVESTOCK']\n",
    "\n",
    "# check the first few rows\n",
    "# new_health_livestockfactor.head()\n",
    "\n",
    "# create state field by stripping \n",
    "permits_approp_act.loc[:,'state'] = permits_approp_act['office_code'].str[2:4]\n",
    "permits_approp_act.loc[:,'allotment_unique'] = permits_approp_act['state'] + permits_approp_act['allotment_number']\n",
    "\n",
    "# merge the new permit df with the freshly sliced land health df\n",
    "permits_approp_livestock = pd.merge(permits_approp_act, new_health_livestockfactor, on='allotment_unique', how='left')\n",
    "\n",
    "# fill the null values with a string so we can groupby on them\n",
    "permits_approp_livestock['lhs_class'] = permits_approp_livestock['lhs_class'].fillna('None listed')\n",
    "\n",
    "# create a new dataframe that counts by land health designation \n",
    "approp_permits_by_cause = permits_approp_livestock.groupby('lhs_class').count().loc[:,'id']\n",
    "\n",
    "# assign to a variable the sum of permits renewed \n",
    "stamped_permits = approp_permits_by_cause[:1].sum()\n",
    "\n",
    "print 'At least {} permits have been renewed for 10 years with no environmental review on allotments where livestock grazing has been identified as a factor for the allotment not meeting rangeland health standards. \\n'.format(stamped_permits)\n",
    "# permits_approp_livestock[permits_approp_livestock['lhs_class'] == 'NOT MET - LIVESTOCK']\n",
    "\n",
    "# pring a description of the table\n",
    "print 'Table shows only those permits that were renewed under Appropriations Act/FLPMA'\n",
    "\n",
    "# make it a dataframe so that it displays prettier\n",
    "approp_permits_by_cause = pd.DataFrame(approp_permits_by_cause)\n",
    "\n",
    "# and display it\n",
    "approp_permits_by_cause"
   ]
  },
  {
   "cell_type": "markdown",
   "metadata": {},
   "source": [
    "#### For OR/WA/ID"
   ]
  },
  {
   "cell_type": "code",
   "execution_count": 841,
   "metadata": {
    "collapsed": false
   },
   "outputs": [
    {
     "name": "stdout",
     "output_type": "stream",
     "text": [
      "At least 889 permits have been renewed for 10 years with no environmental review on allotments where livestock grazing has been identified as a factor for the allotment not meeting rangeland health standards. \n",
      "\n",
      "Table shows only those permits that were renewed under Appropriations Act/FLPMA\n"
     ]
    },
    {
     "data": {
      "text/html": [
       "<div>\n",
       "<table border=\"1\" class=\"dataframe\">\n",
       "  <thead>\n",
       "    <tr style=\"text-align: right;\">\n",
       "      <th></th>\n",
       "      <th>id</th>\n",
       "    </tr>\n",
       "    <tr>\n",
       "      <th>lhs_class</th>\n",
       "      <th></th>\n",
       "    </tr>\n",
       "  </thead>\n",
       "  <tbody>\n",
       "    <tr>\n",
       "      <th>NOT MET - LIVESTOCK</th>\n",
       "      <td>889</td>\n",
       "    </tr>\n",
       "    <tr>\n",
       "      <th>None listed</th>\n",
       "      <td>2812</td>\n",
       "    </tr>\n",
       "  </tbody>\n",
       "</table>\n",
       "</div>"
      ],
      "text/plain": [
       "                       id\n",
       "lhs_class                \n",
       "NOT MET - LIVESTOCK   889\n",
       "None listed          2812"
      ]
     },
     "execution_count": 841,
     "metadata": {},
     "output_type": "execute_result"
    }
   ],
   "source": [
    "#repeat steps above using our permit file that only has OR/WA/ID in it\n",
    "orwaid_permits_approp_act = orwaid_permits_for_analysis[orwaid_permits_for_analysis['permit_status'] == 'FLPMA 402(C)(2)/APPROP ACT']\n",
    "orwaid_permits_approp_act.loc[:,'allotment_unique'] = orwaid_permits_approp_act['state'] + orwaid_permits_approp_act['allotment_number']\n",
    "orwaid_permits_approp_livestock = pd.merge(orwaid_permits_approp_act, new_health_livestockfactor, on='allotment_unique', how='left')\n",
    "orwaid_permits_approp_livestock['lhs_class'] = orwaid_permits_approp_livestock['lhs_class'].fillna('None listed')\n",
    "orwaid_approp_permits_by_cause = orwaid_permits_approp_livestock.groupby('lhs_class').count().loc[:,'id']\n",
    "orwaid_stamped_permits = orwaid_approp_permits_by_cause[:1].sum()\n",
    "print 'At least {} permits have been renewed for 10 years with no environmental review on allotments where livestock grazing has been identified as a factor for the allotment not meeting rangeland health standards. \\n'.format(orwaid_stamped_permits)\n",
    "# permits_approp_livestock[permits_approp_livestock['lhs_class'] == 'NOT MET - LIVESTOCK']\n",
    "\n",
    "print 'Table shows only those permits that were renewed under Appropriations Act/FLPMA'\n",
    "orwaid_approp_permits_by_cause = pd.DataFrame(orwaid_approp_permits_by_cause)\n",
    "orwaid_approp_permits_by_cause"
   ]
  },
  {
   "cell_type": "markdown",
   "metadata": {},
   "source": [
    "### How many acres have been evaluated for Land Health Standards"
   ]
  },
  {
   "cell_type": "code",
   "execution_count": 918,
   "metadata": {
    "collapsed": false
   },
   "outputs": [],
   "source": [
    "# merge our health dataframe with allotment dataframe so that we have fields such as total acres\n",
    "new_health_plus_allotmnets = pd.merge(new_health, allots, on='allotment_unique', how='left')"
   ]
  },
  {
   "cell_type": "markdown",
   "metadata": {},
   "source": [
    "The number of allotments falling into each land health category."
   ]
  },
  {
   "cell_type": "code",
   "execution_count": 917,
   "metadata": {
    "collapsed": false
   },
   "outputs": [
    {
     "data": {
      "text/html": [
       "<div>\n",
       "<table border=\"1\" class=\"dataframe\">\n",
       "  <thead>\n",
       "    <tr style=\"text-align: right;\">\n",
       "      <th></th>\n",
       "      <th>allotment_unique</th>\n",
       "    </tr>\n",
       "    <tr>\n",
       "      <th>lhs_class</th>\n",
       "      <th></th>\n",
       "    </tr>\n",
       "  </thead>\n",
       "  <tbody>\n",
       "    <tr>\n",
       "      <th>ALL STANDARDS MET</th>\n",
       "      <td>10471</td>\n",
       "    </tr>\n",
       "    <tr>\n",
       "      <th>DETERMINATION NOT COMPLETE</th>\n",
       "      <td>4971</td>\n",
       "    </tr>\n",
       "    <tr>\n",
       "      <th>NOT MET - LIVESTOCK</th>\n",
       "      <td>2302</td>\n",
       "    </tr>\n",
       "    <tr>\n",
       "      <th>NOT MET - INSUFFICIENT INFORMATION</th>\n",
       "      <td>1046</td>\n",
       "    </tr>\n",
       "    <tr>\n",
       "      <th>NOT MET - NOT LIVESTOCK</th>\n",
       "      <td>780</td>\n",
       "    </tr>\n",
       "    <tr>\n",
       "      <th>NO DATA</th>\n",
       "      <td>706</td>\n",
       "    </tr>\n",
       "    <tr>\n",
       "      <th>CLOSED</th>\n",
       "      <td>3</td>\n",
       "    </tr>\n",
       "    <tr>\n",
       "      <th>NOT MET - NOTLIVESTOCK</th>\n",
       "      <td>1</td>\n",
       "    </tr>\n",
       "  </tbody>\n",
       "</table>\n",
       "</div>"
      ],
      "text/plain": [
       "                                    allotment_unique\n",
       "lhs_class                                           \n",
       "ALL STANDARDS MET                              10471\n",
       "DETERMINATION NOT COMPLETE                      4971\n",
       "NOT MET - LIVESTOCK                             2302\n",
       "NOT MET - INSUFFICIENT INFORMATION              1046\n",
       "NOT MET - NOT LIVESTOCK                          780\n",
       "NO DATA                                          706\n",
       "CLOSED                                             3\n",
       "NOT MET - NOTLIVESTOCK                             1"
      ]
     },
     "execution_count": 917,
     "metadata": {},
     "output_type": "execute_result"
    }
   ],
   "source": [
    "# count the number of allotments, grouping by lhs class, sorting largest to smallest\n",
    "health_by_allotments = new_health_plus_allotmnets.groupby('lhs_class').count().sort('allotment_unique', ascending=False).loc[:,'allotment_unique']\n",
    "health_by_allotments = pd.DataFrame(health_by_allotments)\n",
    "health_by_allotments"
   ]
  },
  {
   "cell_type": "markdown",
   "metadata": {},
   "source": [
    "The number of acres falling into each land health category. Note that more acres have not been evaluated than were found meeting standards."
   ]
  },
  {
   "cell_type": "code",
   "execution_count": 913,
   "metadata": {
    "collapsed": false,
    "scrolled": true
   },
   "outputs": [
    {
     "data": {
      "text/html": [
       "<div>\n",
       "<table border=\"1\" class=\"dataframe\">\n",
       "  <thead>\n",
       "    <tr style=\"text-align: right;\">\n",
       "      <th></th>\n",
       "      <th>public_acres</th>\n",
       "    </tr>\n",
       "    <tr>\n",
       "      <th>lhs_class</th>\n",
       "      <th></th>\n",
       "    </tr>\n",
       "  </thead>\n",
       "  <tbody>\n",
       "    <tr>\n",
       "      <th>DETERMINATION NOT COMPLETE</th>\n",
       "      <td>47740937</td>\n",
       "    </tr>\n",
       "    <tr>\n",
       "      <th>ALL STANDARDS MET</th>\n",
       "      <td>46966964</td>\n",
       "    </tr>\n",
       "    <tr>\n",
       "      <th>NOT MET - LIVESTOCK</th>\n",
       "      <td>35479477</td>\n",
       "    </tr>\n",
       "    <tr>\n",
       "      <th>NOT MET - NOT LIVESTOCK</th>\n",
       "      <td>9307981</td>\n",
       "    </tr>\n",
       "    <tr>\n",
       "      <th>NOT MET - INSUFFICIENT INFORMATION</th>\n",
       "      <td>7808366</td>\n",
       "    </tr>\n",
       "    <tr>\n",
       "      <th>NO DATA</th>\n",
       "      <td>1963876</td>\n",
       "    </tr>\n",
       "    <tr>\n",
       "      <th>CLOSED</th>\n",
       "      <td>128472</td>\n",
       "    </tr>\n",
       "    <tr>\n",
       "      <th>NOT MET - NOTLIVESTOCK</th>\n",
       "      <td>2143</td>\n",
       "    </tr>\n",
       "  </tbody>\n",
       "</table>\n",
       "</div>"
      ],
      "text/plain": [
       "                                    public_acres\n",
       "lhs_class                                       \n",
       "DETERMINATION NOT COMPLETE              47740937\n",
       "ALL STANDARDS MET                       46966964\n",
       "NOT MET - LIVESTOCK                     35479477\n",
       "NOT MET - NOT LIVESTOCK                  9307981\n",
       "NOT MET - INSUFFICIENT INFORMATION       7808366\n",
       "NO DATA                                  1963876\n",
       "CLOSED                                    128472\n",
       "NOT MET - NOTLIVESTOCK                      2143"
      ]
     },
     "execution_count": 913,
     "metadata": {},
     "output_type": "execute_result"
    }
   ],
   "source": [
    "health_by_acres = new_health_plus_allotmnets.groupby('lhs_class').sum().sort('public_acres', ascending=False).loc[:,'public_acres']\n",
    "health_by_acres = pd.DataFrame(health_by_acres)\n",
    "\n",
    "health_by_acres"
   ]
  },
  {
   "cell_type": "markdown",
   "metadata": {},
   "source": [
    "### Land health evaluations by year"
   ]
  },
  {
   "cell_type": "code",
   "execution_count": 975,
   "metadata": {
    "collapsed": false
   },
   "outputs": [],
   "source": [
    "health_full_file = 'data/rangeland-health/lhs_w_year.xlsx'\n",
    "health_full = pd.read_excel(health_full_file, 'ALL BLM LHS RECORDS 1997-2012')\n",
    "#health_full.head()"
   ]
  },
  {
   "cell_type": "code",
   "execution_count": 977,
   "metadata": {
    "collapsed": false,
    "scrolled": true
   },
   "outputs": [
    {
     "data": {
      "text/html": [
       "<div>\n",
       "<table border=\"1\" class=\"dataframe\">\n",
       "  <thead>\n",
       "    <tr style=\"text-align: right;\">\n",
       "      <th></th>\n",
       "      <th>STALLOT (derived)</th>\n",
       "    </tr>\n",
       "    <tr>\n",
       "      <th>Land_Health_Eval_Year</th>\n",
       "      <th></th>\n",
       "    </tr>\n",
       "  </thead>\n",
       "  <tbody>\n",
       "    <tr>\n",
       "      <th>1900</th>\n",
       "      <td>3168</td>\n",
       "    </tr>\n",
       "    <tr>\n",
       "      <th>1905</th>\n",
       "      <td>962</td>\n",
       "    </tr>\n",
       "    <tr>\n",
       "      <th>1933</th>\n",
       "      <td>1</td>\n",
       "    </tr>\n",
       "    <tr>\n",
       "      <th>1984</th>\n",
       "      <td>1</td>\n",
       "    </tr>\n",
       "    <tr>\n",
       "      <th>1988</th>\n",
       "      <td>26</td>\n",
       "    </tr>\n",
       "    <tr>\n",
       "      <th>1989</th>\n",
       "      <td>1</td>\n",
       "    </tr>\n",
       "    <tr>\n",
       "      <th>1992</th>\n",
       "      <td>1</td>\n",
       "    </tr>\n",
       "    <tr>\n",
       "      <th>1993</th>\n",
       "      <td>3</td>\n",
       "    </tr>\n",
       "    <tr>\n",
       "      <th>1994</th>\n",
       "      <td>16</td>\n",
       "    </tr>\n",
       "    <tr>\n",
       "      <th>1995</th>\n",
       "      <td>2</td>\n",
       "    </tr>\n",
       "    <tr>\n",
       "      <th>1996</th>\n",
       "      <td>6</td>\n",
       "    </tr>\n",
       "    <tr>\n",
       "      <th>1997</th>\n",
       "      <td>45</td>\n",
       "    </tr>\n",
       "    <tr>\n",
       "      <th>1998</th>\n",
       "      <td>502</td>\n",
       "    </tr>\n",
       "    <tr>\n",
       "      <th>1999</th>\n",
       "      <td>3851</td>\n",
       "    </tr>\n",
       "    <tr>\n",
       "      <th>2000</th>\n",
       "      <td>2134</td>\n",
       "    </tr>\n",
       "    <tr>\n",
       "      <th>2001</th>\n",
       "      <td>1821</td>\n",
       "    </tr>\n",
       "    <tr>\n",
       "      <th>2002</th>\n",
       "      <td>1957</td>\n",
       "    </tr>\n",
       "    <tr>\n",
       "      <th>2003</th>\n",
       "      <td>2255</td>\n",
       "    </tr>\n",
       "    <tr>\n",
       "      <th>2004</th>\n",
       "      <td>2557</td>\n",
       "    </tr>\n",
       "    <tr>\n",
       "      <th>2005</th>\n",
       "      <td>2369</td>\n",
       "    </tr>\n",
       "    <tr>\n",
       "      <th>2006</th>\n",
       "      <td>2875</td>\n",
       "    </tr>\n",
       "    <tr>\n",
       "      <th>2007</th>\n",
       "      <td>2953</td>\n",
       "    </tr>\n",
       "    <tr>\n",
       "      <th>2008</th>\n",
       "      <td>1893</td>\n",
       "    </tr>\n",
       "    <tr>\n",
       "      <th>2009</th>\n",
       "      <td>1005</td>\n",
       "    </tr>\n",
       "    <tr>\n",
       "      <th>2010</th>\n",
       "      <td>985</td>\n",
       "    </tr>\n",
       "    <tr>\n",
       "      <th>2011</th>\n",
       "      <td>653</td>\n",
       "    </tr>\n",
       "    <tr>\n",
       "      <th>2012</th>\n",
       "      <td>602</td>\n",
       "    </tr>\n",
       "    <tr>\n",
       "      <th>2013</th>\n",
       "      <td>3</td>\n",
       "    </tr>\n",
       "    <tr>\n",
       "      <th>2020</th>\n",
       "      <td>1</td>\n",
       "    </tr>\n",
       "    <tr>\n",
       "      <th>2044</th>\n",
       "      <td>1</td>\n",
       "    </tr>\n",
       "    <tr>\n",
       "      <th>2207</th>\n",
       "      <td>2</td>\n",
       "    </tr>\n",
       "    <tr>\n",
       "      <th>2998</th>\n",
       "      <td>1</td>\n",
       "    </tr>\n",
       "  </tbody>\n",
       "</table>\n",
       "</div>"
      ],
      "text/plain": [
       "                       STALLOT (derived)\n",
       "Land_Health_Eval_Year                   \n",
       "1900                                3168\n",
       "1905                                 962\n",
       "1933                                   1\n",
       "1984                                   1\n",
       "1988                                  26\n",
       "1989                                   1\n",
       "1992                                   1\n",
       "1993                                   3\n",
       "1994                                  16\n",
       "1995                                   2\n",
       "1996                                   6\n",
       "1997                                  45\n",
       "1998                                 502\n",
       "1999                                3851\n",
       "2000                                2134\n",
       "2001                                1821\n",
       "2002                                1957\n",
       "2003                                2255\n",
       "2004                                2557\n",
       "2005                                2369\n",
       "2006                                2875\n",
       "2007                                2953\n",
       "2008                                1893\n",
       "2009                                1005\n",
       "2010                                 985\n",
       "2011                                 653\n",
       "2012                                 602\n",
       "2013                                   3\n",
       "2020                                   1\n",
       "2044                                   1\n",
       "2207                                   2\n",
       "2998                                   1"
      ]
     },
     "execution_count": 977,
     "metadata": {},
     "output_type": "execute_result"
    }
   ],
   "source": [
    "health_by_year = health_full.groupby('Land_Health_Eval_Year').count().sort().loc[:,'STALLOT (derived)']\n",
    "health_by_year = pd.DataFrame(health_by_year)\n",
    "health_by_year"
   ]
  },
  {
   "cell_type": "markdown",
   "metadata": {},
   "source": [
    "---\n",
    "\n",
    "## Future questions:\n",
    "* How many existing allotment management plans are more than 20 years old.\n",
    "    Anticipated steps:\n",
    "    1. Create a column that just includes the amp implement year\n",
    "    2. Select * where AMP is not null\n",
    "    3. Group by amp implement year\n",
    "* How many permits were approved as-is under the appropriations act on allotments that were not meeting land health standards because of livestock\n",
    "    Anticipated steps:\n",
    "    1. Create a column that just includes the permit approval year\n",
    "    2. Select * where permit status is Approp Act/FLPMA\n",
    "    3. Group by permit approval year"
   ]
  }
 ],
 "metadata": {
  "kernelspec": {
   "display_name": "Python 2",
   "language": "python",
   "name": "python2"
  },
  "language_info": {
   "codemirror_mode": {
    "name": "ipython",
    "version": 2
   },
   "file_extension": ".py",
   "mimetype": "text/x-python",
   "name": "python",
   "nbconvert_exporter": "python",
   "pygments_lexer": "ipython2",
   "version": "2.7.10"
  }
 },
 "nbformat": 4,
 "nbformat_minor": 0
}
